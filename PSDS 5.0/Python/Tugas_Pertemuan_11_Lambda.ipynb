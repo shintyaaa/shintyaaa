{
  "nbformat": 4,
  "nbformat_minor": 0,
  "metadata": {
    "colab": {
      "provenance": []
    },
    "kernelspec": {
      "name": "python3",
      "display_name": "Python 3"
    },
    "language_info": {
      "name": "python"
    }
  },
  "cells": [
    {
      "cell_type": "markdown",
      "source": [
        "#**Lambda**"
      ],
      "metadata": {
        "id": "JEonsXsIyGmg"
      }
    },
    {
      "cell_type": "markdown",
      "source": [
        "Fungsi Lambda adalah fungsi anonim\n",
        "`one line`yang didefinisikan tanpa nama. Fungsi lambda dapat dapat mengambil sejumlah arguments, tetapi hanya dapat memiliki memiliki satu `expression`. Sementara fungsi normal didefinisikan menggunakan kata kunci def, dalam Python fungsi anonim didefinisikan menggunakan kata kunci lambda."
      ],
      "metadata": {
        "id": "J6-kaalYyTQY"
      }
    },
    {
      "cell_type": "markdown",
      "source": [
        "Fungsi Lambda digunakan ketika fungsi sederhana hanya digunakan sekali atau untuk waktu yang singkat dalam kode kita. Penggunaannya yang paling umum adalah sebagai argumen untuk fungsi tingkat tinggi (fungsi yang menggunakan fungsi lain sebagai argument).\n",
        "\n",
        "Lambda expression di python adalah sbuah ekspresi untuk membuat fungsi.\n",
        "\n",
        "Lambda sendiri berasal dari teori kalkulus, yakni Lambda Calculus  yang dikenalkan oleh Alonzo Church di tahun 1930.\n",
        "\n",
        "Berkat lambda, kita bisa membuat fungsi tanpa nama atau dikenal juga dengan anonymous function.\n",
        "\n",
        "\n",
        "![lambda.jpeg](data:image/jpeg;base64,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)\n",
        "\n",
        "Lambda bisa memiliki lebih dari satu argumen atau parameter, tapi hanya bisa memiliki satu ekspresi atau isi."
      ],
      "metadata": {
        "id": "LJGLiGtay41D"
      }
    },
    {
      "cell_type": "code",
      "execution_count": null,
      "metadata": {
        "id": "QTxu-NGJx3xG"
      },
      "outputs": [],
      "source": [
        "greeting = lambda name: print(f\"hello, {name}\")"
      ]
    },
    {
      "cell_type": "markdown",
      "source": [
        "Karena fungsi lambda tidak punya nama, jadi kita butuh variable untuk menyimpannya.\n",
        "\n",
        "Nanti saat mau kita panggil, kita tinggal tuliskan saja nama variablenya seprti ini:"
      ],
      "metadata": {
        "id": "6tvcIGF-7lSq"
      }
    },
    {
      "cell_type": "code",
      "source": [
        "greeting(\"Dian\")\n",
        "greeting(\"Ayu\")"
      ],
      "metadata": {
        "colab": {
          "base_uri": "https://localhost:8080/"
        },
        "id": "YjdxIcB471Z_",
        "outputId": "2c3b6d55-0a47-485d-9589-ed3771a9fa35"
      },
      "execution_count": null,
      "outputs": [
        {
          "output_type": "stream",
          "name": "stdout",
          "text": [
            "hello, Dian\n",
            "hello, Ayu\n"
          ]
        }
      ]
    },
    {
      "cell_type": "markdown",
      "source": [
        "Beberapa contoh penggunaan fungsi Lambda"
      ],
      "metadata": {
        "id": "dW5gqWGu78Oq"
      }
    },
    {
      "cell_type": "code",
      "source": [
        "#fungsi lambda untuk menambahkan angka 10 kepada argument input\n",
        "f = lambda x: x+10\n",
        "val1 = f(5)\n",
        "val2 = f(100)\n",
        "print(print(val1, val2))"
      ],
      "metadata": {
        "colab": {
          "base_uri": "https://localhost:8080/"
        },
        "id": "UQahNgCK756w",
        "outputId": "79c63935-1ac3-4fbd-b477-d50c674a8189"
      },
      "execution_count": null,
      "outputs": [
        {
          "output_type": "stream",
          "name": "stdout",
          "text": [
            "15 110\n",
            "None\n"
          ]
        }
      ]
    },
    {
      "cell_type": "code",
      "source": [
        "#fungsi lambda untuk menambahkan angka 10 kepada argument input\n",
        "f = lambda x,y: x*y\n",
        "val3 = f(2,10)\n",
        "val4 = f(7,5)\n",
        "print(print(val3, val4))"
      ],
      "metadata": {
        "colab": {
          "base_uri": "https://localhost:8080/"
        },
        "id": "BC9qwJOz8bdu",
        "outputId": "740f5f93-8368-4942-9a8e-6618e5f3711a"
      },
      "execution_count": null,
      "outputs": [
        {
          "output_type": "stream",
          "name": "stdout",
          "text": [
            "20 35\n",
            "None\n"
          ]
        }
      ]
    },
    {
      "cell_type": "markdown",
      "source": [
        "#**Anonymous Function**"
      ],
      "metadata": {
        "id": "i4cn_fau8ve2"
      }
    },
    {
      "cell_type": "markdown",
      "source": [
        "Karena lambda adalah anonymous function, ia akan bebas menggunakan nama apa saja. Dengan kata lain, fungsi lambda bisa disimpan di variabel manapun. Ini tentunya tidak bisa dilakukan oleh fungsi yang dibuat dengan def. Coba perhatikan ini:"
      ],
      "metadata": {
        "id": "9aPo--t-9ISH"
      }
    },
    {
      "cell_type": "code",
      "source": [
        "def sayhello(nama):\n",
        "  print(f\"hello(nama), apa kabar?\")\n",
        "\n",
        "ucapin = say_hello(nama)"
      ],
      "metadata": {
        "colab": {
          "base_uri": "https://localhost:8080/",
          "height": 209
        },
        "id": "b2kA1QI18rmL",
        "outputId": "d3d7bd16-51a0-4c43-8e6f-95eb93a6a2e7"
      },
      "execution_count": null,
      "outputs": [
        {
          "output_type": "error",
          "ename": "NameError",
          "evalue": "ignored",
          "traceback": [
            "\u001b[0;31m---------------------------------------------------------------------------\u001b[0m",
            "\u001b[0;31mNameError\u001b[0m                                 Traceback (most recent call last)",
            "\u001b[0;32m<ipython-input-6-afe76badbf93>\u001b[0m in \u001b[0;36m<cell line: 4>\u001b[0;34m()\u001b[0m\n\u001b[1;32m      2\u001b[0m   \u001b[0mprint\u001b[0m\u001b[0;34m(\u001b[0m\u001b[0;34mf\"hello(nama), apa kabar?\"\u001b[0m\u001b[0;34m)\u001b[0m\u001b[0;34m\u001b[0m\u001b[0;34m\u001b[0m\u001b[0m\n\u001b[1;32m      3\u001b[0m \u001b[0;34m\u001b[0m\u001b[0m\n\u001b[0;32m----> 4\u001b[0;31m \u001b[0mucapin\u001b[0m \u001b[0;34m=\u001b[0m \u001b[0msay_hello\u001b[0m\u001b[0;34m(\u001b[0m\u001b[0mnama\u001b[0m\u001b[0;34m)\u001b[0m\u001b[0;34m\u001b[0m\u001b[0;34m\u001b[0m\u001b[0m\n\u001b[0m",
            "\u001b[0;31mNameError\u001b[0m: name 'say_hello' is not defined"
          ]
        }
      ]
    },
    {
      "cell_type": "markdown",
      "source": [
        "Saya mencoba membuat fungsi say_hello() dengan def, kemudian menyimpannya ke\n",
        "dalam variabel ucapin. Tapi malah error.\n",
        "\n",
        "Ini karena fungsi tersebut bukanlah fungsi anonymous yang boleh diubah-ubah namanya.\n",
        "\n",
        "Lalu coba perhatikan di baris terakhir, fungsi lambda greeting() yang sudah disimpan lagi ke variabel yang berbeda, yakni sapa."
      ],
      "metadata": {
        "id": "jjwalYhs_HUY"
      }
    },
    {
      "cell_type": "code",
      "source": [
        "greeting = lambda name: print(f\"hello, {name}\")\n",
        "sapa = greeting\n",
        "greeting(\"Sopo\")\n",
        "sapa(\"Jarwo\")"
      ],
      "metadata": {
        "colab": {
          "base_uri": "https://localhost:8080/"
        },
        "id": "24tL14RV_FiJ",
        "outputId": "a7899b64-b0b8-4828-805e-59f8b857c3d8"
      },
      "execution_count": null,
      "outputs": [
        {
          "output_type": "stream",
          "name": "stdout",
          "text": [
            "hello, Sopo\n",
            "hello, Jarwo\n"
          ]
        }
      ]
    },
    {
      "cell_type": "markdown",
      "source": [
        "Hasilnya tidak eror, karena ini adalah fungsi anonymous atau lambda"
      ],
      "metadata": {
        "id": "20R9oNDHA22v"
      }
    },
    {
      "cell_type": "markdown",
      "source": [
        "##**Eksekusi Lambda Secara Langsung**"
      ],
      "metadata": {
        "id": "KrUexEO_y15m"
      }
    },
    {
      "cell_type": "markdown",
      "source": [
        "Eksekusi lambda secara langsung kelebihan fungsi dibandingkan def adalahbisa kita eksekusi langsung.\n",
        "\n",
        "Contohnya :"
      ],
      "metadata": {
        "id": "xKbm1zXyzMYB"
      }
    },
    {
      "cell_type": "code",
      "source": [
        "(lambda x,y: x**2 + y**2)(4,6)"
      ],
      "metadata": {
        "id": "6ULjmUajA1Fp",
        "colab": {
          "base_uri": "https://localhost:8080/"
        },
        "outputId": "22e0c59f-33e9-4606-d904-007236d207ef"
      },
      "execution_count": 1,
      "outputs": [
        {
          "output_type": "execute_result",
          "data": {
            "text/plain": [
              "52"
            ]
          },
          "metadata": {},
          "execution_count": 1
        }
      ]
    },
    {
      "cell_type": "markdown",
      "source": [
        "Tanda kurung yang mengapit fungsi lambda artinya akan langsung mengeksekusi fungsi tersebut.\n",
        "\n",
        "Lalu kurung berikutnya akan berisi parameter.\n",
        "\n",
        "Angka 4 dan 6 adalah parameter x dan y yang akan diberikan kepada fungsi lambda.\n",
        "Maka kita akan langsung mendapatkan hasilnya, yakni : 42 + 62 = 52\n",
        "\n",
        "Hasil dari eksekusi ini bisa juga kita simpan ke dalam variabel."
      ],
      "metadata": {
        "id": "w7i_68ebzix0"
      }
    },
    {
      "cell_type": "code",
      "source": [
        "hasil = (lambda x,y: x**2 + y**2)(4,6)"
      ],
      "metadata": {
        "id": "aORMWA7azb0R"
      },
      "execution_count": null,
      "outputs": []
    },
    {
      "cell_type": "markdown",
      "source": [
        "##**Mengapa Harus Pakai Lambda**"
      ],
      "metadata": {
        "id": "Mb68aBRy0eIe"
      }
    },
    {
      "cell_type": "markdown",
      "source": [
        "Dalam kasus tertentu, lambda lebih baik dibandingkan fungsi biasa.\n",
        "\n",
        "Lambda biasanya dibutuhkan jika ingin membuat fungsi dalam satu baris.\n",
        "\n",
        "Fungsi lambda biasanya digunakan dalam fungsi seperti `filter()`, `map()`, dan `reduce()`, mengapa?\n",
        "\n",
        "Karena di fungsi tersebut membutuhkan parameter fungsi.\n",
        "\n",
        "Contoh :"
      ],
      "metadata": {
        "id": "qEhAably0jd2"
      }
    },
    {
      "cell_type": "code",
      "source": [
        "bilangan = [10,2,8,7,5,4,3,11,0,1]\n",
        "filtered_result = map(lambda x: x*x, bilangan)\n",
        "print(list(filtered_result))"
      ],
      "metadata": {
        "colab": {
          "base_uri": "https://localhost:8080/"
        },
        "id": "aZDOX1Tg1QQN",
        "outputId": "20803f21-274a-4747-c7f1-91d47d57de40"
      },
      "execution_count": 2,
      "outputs": [
        {
          "output_type": "stream",
          "name": "stdout",
          "text": [
            "[100, 4, 64, 49, 25, 16, 9, 121, 0, 1]\n"
          ]
        }
      ]
    },
    {
      "cell_type": "markdown",
      "source": [
        "Pada fungsi map() kita memberikan parameter dengan fungsi lambda.\n",
        "\n",
        "Mengapa bisa begitu?\n",
        "\n",
        "Karena lambda bisa disimpan ke dalam variabel, otomatis dia akan bisa juga jadi parameter.\n",
        "\n",
        "Satu lagi contoh dengan fungsi filter()"
      ],
      "metadata": {
        "id": "5I661AW34XjU"
      }
    },
    {
      "cell_type": "code",
      "source": [
        "#Menentukan bilangan genap\n",
        "genap = lambda x: x%2 == 0\n",
        "list(filter(genap, range(11)))"
      ],
      "metadata": {
        "colab": {
          "base_uri": "https://localhost:8080/"
        },
        "id": "JbiQj9wB6A7i",
        "outputId": "65a17261-d8da-4e58-ae6b-8e96fba9707f"
      },
      "execution_count": 3,
      "outputs": [
        {
          "output_type": "execute_result",
          "data": {
            "text/plain": [
              "[0, 2, 4, 6, 8, 10]"
            ]
          },
          "metadata": {},
          "execution_count": 3
        }
      ]
    }
  ]
}