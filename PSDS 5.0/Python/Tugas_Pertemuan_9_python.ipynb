{
  "nbformat": 4,
  "nbformat_minor": 0,
  "metadata": {
    "colab": {
      "provenance": []
    },
    "kernelspec": {
      "name": "python3",
      "display_name": "Python 3"
    },
    "language_info": {
      "name": "python"
    }
  },
  "cells": [
    {
      "cell_type": "markdown",
      "source": [
        "#**List Python**"
      ],
      "metadata": {
        "id": "NOTKB2zeUh6O"
      }
    },
    {
      "cell_type": "markdown",
      "source": [
        "Dalam bahasa pemrograman Python, struktur data yang paling dasar adalah urutan atau lists. Setiap elemen-elemen berurutan akan diberi\n",
        "nomor posisi atau indeksnya. Indeks pertama dalam list adalah nol, indeks kedua adalah satu dan seterusnya.\n",
        "Python memiliki enam jenis urutan built-in, namun yang paling umum adalah list dan tuple. Ada beberapa hal yang dapat Anda lakukan dengan\n",
        "semua jenis list. Operasi ini meliputi pengindeksan, pengiris, penambahan, perbanyak, dan pengecekan keanggotaan. Selain itu, Python\n",
        "memiliki fungsi built-in untuk menemukan panjang list dan untuk menemukan elemen terbesar dan terkecilnya."
      ],
      "metadata": {
        "id": "a4F9Pq2VUtlr"
      }
    },
    {
      "cell_type": "markdown",
      "source": [
        "##Membuat List Python"
      ],
      "metadata": {
        "id": "4OM1VM4DU-13"
      }
    },
    {
      "cell_type": "markdown",
      "source": [
        "List adalah tipe data yang paling serbaguna yang tersedia dalam bahasa Python, yang dapat ditulis sebagai daftar nilai yang dipisahkan koma\n",
        "(item) antara tanda kurung siku. Hal penting tentang daftar adalah item dalam list tidak boleh sama jenisnya.\n",
        "\n",
        "Membuat list sangat sederhana, tinggal memasukkan berbagai nilai yang dipisahkan koma di antara tanda kurung siku. Dibawah ini adalah\n",
        "contoh sederhana pembuatan list dalam bahasa Python.\n"
      ],
      "metadata": {
        "id": "ka5AmWPtVIqu"
      }
    },
    {
      "cell_type": "code",
      "execution_count": null,
      "metadata": {
        "id": "JAlDssAYWEgZ",
        "colab": {
          "base_uri": "https://localhost:8080/"
        },
        "outputId": "3b18ea25-024e-4bc8-9d5d-6570f4a8ac5e"
      },
      "outputs": [
        {
          "output_type": "stream",
          "name": "stdout",
          "text": [
            "List 1: ['kimia', 'fisika', 1993, 2017]\n",
            "List 2: [1, 2, 3, 4, 5]\n",
            "List 3: ['a', 'b', 'c', 'd']\n"
          ]
        }
      ],
      "source": [
        "#Contoh sederhana pembuatan list pada bahasa pemrograman python\n",
        "list1 = ['kimia', 'fisika', 1993, 2017]\n",
        "list2 = [1, 2, 3, 4, 5]\n",
        "list3 = [\"a\", \"b\", \"c\", \"d\"]\n",
        "\n",
        "print('List 1:', list1)\n",
        "print('List 2:', list2)\n",
        "print('List 3:', list3)"
      ]
    },
    {
      "cell_type": "markdown",
      "source": [
        "##Akses Nilai Dalam List Python\n"
      ],
      "metadata": {
        "id": "mI3izXjqV2Cf"
      }
    },
    {
      "cell_type": "markdown",
      "source": [
        "Untuk mengakses nilai dalam list python, gunakan tanda kurung siku untuk mengiris beserta indeks atau indeks untuk mendapatkan nilai yang\n",
        "tersedia pada indeks tersebut.\n"
      ],
      "metadata": {
        "id": "VtuWc3kzV5um"
      }
    },
    {
      "cell_type": "code",
      "source": [
        "#Cara mengakses nilai di dalam list Python\n",
        "\n",
        "list1 = ['fisika', 'kimia', 1993, 2017]\n",
        "list2 = [1, 2, 3, 4, 5, 6, 7]\n",
        "\n",
        "print(\"list1[0]:\", list1[0])\n",
        "print(\"list2[1:5]:\", list2[1:5])"
      ],
      "metadata": {
        "id": "ncyTJCFbWIty",
        "colab": {
          "base_uri": "https://localhost:8080/"
        },
        "outputId": "7aad6895-f0b7-4208-e9dd-d450fd706541"
      },
      "execution_count": null,
      "outputs": [
        {
          "output_type": "stream",
          "name": "stdout",
          "text": [
            "list1[0]: fisika\n",
            "list2[1:5]: [2, 3, 4, 5]\n"
          ]
        }
      ]
    },
    {
      "cell_type": "markdown",
      "source": [
        "##Update Nilai Dalam List Python"
      ],
      "metadata": {
        "id": "de8mKlnQWFIU"
      }
    },
    {
      "cell_type": "markdown",
      "source": [
        "Kita dapat memperbarui satu atau beberapa nilai di dalam list dengan memberikan potongan di sisi kiri operator penugasan, dan kita dapat\n",
        "menambahkan nilai ke dalam list dengan metode append ()."
      ],
      "metadata": {
        "id": "hcrTSB1WWHsH"
      }
    },
    {
      "cell_type": "code",
      "source": [
        "list = ['fisika', 'kimia', 1993, 2017]\n",
        "print(\"Nilai ada pada index 2:\", list[2])\n",
        "\n",
        "list[2] = 2001\n",
        "print(\"Nilai baru ada pada index 2:\", list[2])"
      ],
      "metadata": {
        "id": "fHxKdUnRWKxq",
        "colab": {
          "base_uri": "https://localhost:8080/"
        },
        "outputId": "fc794bca-172c-472f-89fe-80da7a84163d"
      },
      "execution_count": null,
      "outputs": [
        {
          "output_type": "stream",
          "name": "stdout",
          "text": [
            "Nilai ada pada index 2: 1993\n",
            "Nilai baru ada pada index 2: 2001\n"
          ]
        }
      ]
    },
    {
      "cell_type": "markdown",
      "source": [
        "##Hapus Nilai Dalam List Python\n"
      ],
      "metadata": {
        "id": "EH3oN5oAWPTF"
      }
    },
    {
      "cell_type": "markdown",
      "source": [
        "Untuk menghapus nilai di dalam list python, kita dapat menggunakan salah satu pernyataan del jika Anda tahu persis elemen yang Anda hapus.\n",
        "Kita dapat menggunakan metode remove() jika Anda tidak tahu persis item mana yang akan dihapus.\n"
      ],
      "metadata": {
        "id": "g0h1nfIsWRIs"
      }
    },
    {
      "cell_type": "code",
      "source": [
        "#Contoh cara menghapus nilai pada list python\n",
        "\n",
        "list = ['fisika', 'kimia', 1993, 2017]\n",
        "\n",
        "print(list)\n",
        "del list[2]\n",
        "print(\"Setelah dihapus nilai pada index 2:\", list)"
      ],
      "metadata": {
        "id": "p-A9na-JWMo5",
        "colab": {
          "base_uri": "https://localhost:8080/"
        },
        "outputId": "876b590b-c5b1-41d7-f30b-e25f2a23cc97"
      },
      "execution_count": null,
      "outputs": [
        {
          "output_type": "stream",
          "name": "stdout",
          "text": [
            "['fisika', 'kimia', 1993, 2017]\n",
            "Setelah dihapus nilai pada index 2: ['fisika', 'kimia', 2017]\n"
          ]
        }
      ]
    },
    {
      "cell_type": "markdown",
      "source": [
        "##Slicing pada List Python"
      ],
      "metadata": {
        "id": "3WRhf__3WZQU"
      }
    },
    {
      "cell_type": "markdown",
      "source": [
        "Karena string mirip dengan list, maka slicing operator [ ] juga dapat digunakan pada string untuk mengambil isinya atau bahkan substring.\n",
        "Sebuah string utuh bersifat mutable (bisa diubah), namun elemennya bersifat immutable (tidak bisa diubah)."
      ],
      "metadata": {
        "id": "WaYSvA2RWbBZ"
      }
    },
    {
      "cell_type": "code",
      "source": [
        "L = ['C++', 'Java', 'Python']\n",
        "\n",
        "print('Indeks ke-2:', L[2])\n",
        "print('Indeks ke-2 dari belakang:', L[-2])\n",
        "print('Indeks ke 1 dan 2:', L[1:])"
      ],
      "metadata": {
        "id": "uI9SiSINWOhS",
        "colab": {
          "base_uri": "https://localhost:8080/"
        },
        "outputId": "286cd528-e30b-43ed-a73c-bb916ac13c5e"
      },
      "execution_count": null,
      "outputs": [
        {
          "output_type": "stream",
          "name": "stdout",
          "text": [
            "Indeks ke-2: Python\n",
            "Indeks ke-2 dari belakang: Java\n",
            "Indeks ke 1 dan 2: ['Java', 'Python']\n"
          ]
        }
      ]
    },
    {
      "cell_type": "markdown",
      "source": [
        "#**Set**\n"
      ],
      "metadata": {
        "id": "p3tKR7YoWh8c"
      }
    },
    {
      "cell_type": "markdown",
      "source": [
        "Set juga merupakan tipe data untuk mengumpulkan beberapa item dalam satu variabel. Bedanya, item di dalam set bersifat tidak berurutan dan\n",
        "tidak bisa diubah/diduplikasi. Set menggunakan {} sebagai kontainer.\n",
        "\n",
        "Sama seperti list, set juga bisa diisi oleh item dengan berbagai jenis data.\n"
      ],
      "metadata": {
        "id": "en_-L0BNWpQU"
      }
    },
    {
      "cell_type": "markdown",
      "source": [
        "##Mengakses Item Dalam Set"
      ],
      "metadata": {
        "id": "Hu_U0dgQWtc8"
      }
    },
    {
      "cell_type": "markdown",
      "source": [
        "Karena set menampung item tidak secara berurutan, maka kita harus memasukan nilai item secara spesifik, dan tidak bisa menggunakan\n",
        "urutan seperti list."
      ],
      "metadata": {
        "id": "TwO5VVj-WwYD"
      }
    },
    {
      "cell_type": "code",
      "source": [
        "a = {\"Rokok\", \"Korek\", \"Asbak\"}\n",
        "print(\"Rokok\" in a)"
      ],
      "metadata": {
        "colab": {
          "base_uri": "https://localhost:8080/"
        },
        "id": "vQs3_AsOWzOP",
        "outputId": "c6afb8af-cde3-47d5-982b-771a5cb3e8e5"
      },
      "execution_count": null,
      "outputs": [
        {
          "output_type": "stream",
          "name": "stdout",
          "text": [
            "True\n"
          ]
        }
      ]
    },
    {
      "cell_type": "markdown",
      "source": [
        "##Menghapus Item Dalam Set\n"
      ],
      "metadata": {
        "id": "b4_Bmlz8W3uM"
      }
    },
    {
      "cell_type": "markdown",
      "source": [
        "Untuk menghapus item di dalam set, fungsi yang digunakan adalah (variabel).remove(item). Kita tidak bisa menggunakan .pop(urutan_item)\n",
        "seperti di list, karena set tidak memiliki urutan item."
      ],
      "metadata": {
        "id": "oHvje5XBW6FN"
      }
    },
    {
      "cell_type": "code",
      "source": [
        "a = {\"Rokok\", \"Korek\", \"Asbak\"}\n",
        "a.remove(\"Korek\")\n",
        "print(a)"
      ],
      "metadata": {
        "colab": {
          "base_uri": "https://localhost:8080/"
        },
        "id": "ImKtUhVnW9Ms",
        "outputId": "450b637f-2dfd-4415-86ea-111cc775ac07"
      },
      "execution_count": null,
      "outputs": [
        {
          "output_type": "stream",
          "name": "stdout",
          "text": [
            "{'Asbak', 'Rokok'}\n"
          ]
        }
      ]
    },
    {
      "cell_type": "markdown",
      "source": [
        "##Dictionary"
      ],
      "metadata": {
        "id": "u3zMIKqRWR1G"
      }
    },
    {
      "cell_type": "markdown",
      "source": [
        "Dictionary sebagai tipe data berfungsi mengumpulkan beberapa item dalam satu variabel dengan format key:value. Item di dalam dictionary\n",
        "bersifat berurutan, bisa diubah, tetapi tidak bisa diduplikasi. Dictionary menggunakan simbol {item:item} sebagai kontainer.\n",
        "\n",
        "Contoh dictionary yang diisi item dengan berbagai jenis tipe data.\n"
      ],
      "metadata": {
        "id": "CN1pgXtuXFsD"
      }
    },
    {
      "cell_type": "code",
      "source": [
        "x = {\"nama\": \"Budi\", \"umur\": 50, \"tinggi_badan\": 155.5}\n",
        "print(x)"
      ],
      "metadata": {
        "colab": {
          "base_uri": "https://localhost:8080/"
        },
        "id": "MXgjWqQuXIbi",
        "outputId": "c0b92f57-7c0c-4d7b-eecd-ff11a818e01f"
      },
      "execution_count": null,
      "outputs": [
        {
          "output_type": "stream",
          "name": "stdout",
          "text": [
            "{'nama': 'Budi', 'umur': 50, 'tinggi_badan': 155.5}\n"
          ]
        }
      ]
    },
    {
      "cell_type": "markdown",
      "source": [
        "##Mengakses Value dari Dictionary"
      ],
      "metadata": {
        "id": "YPwzyKmDXg26"
      }
    },
    {
      "cell_type": "markdown",
      "source": [
        "Untuk mengakses value dari sebuah key dalam dictionary, gunakan (variabel[key])."
      ],
      "metadata": {
        "id": "Z_fveyXrXjLD"
      }
    },
    {
      "cell_type": "code",
      "source": [
        "menteri = {\"nama\": \"Budi\", \"umur\": 50}\n",
        "print(menteri[\"umur\"])"
      ],
      "metadata": {
        "colab": {
          "base_uri": "https://localhost:8080/"
        },
        "id": "cNCY5p5AXlU-",
        "outputId": "cdc25da6-cd89-46a5-a40f-07d04162a85e"
      },
      "execution_count": null,
      "outputs": [
        {
          "output_type": "stream",
          "name": "stdout",
          "text": [
            "50\n"
          ]
        }
      ]
    },
    {
      "cell_type": "code",
      "source": [
        "#Contoh cara membuat Dictionary pada Python\n",
        "dict = {'Name': 'Zara', 'Age': 7, 'Class': 'First'}\n",
        "print (\"dict['Name']: \", dict['Name'])\n",
        "print (\"dict['Age']: \", dict['Age'])"
      ],
      "metadata": {
        "colab": {
          "base_uri": "https://localhost:8080/"
        },
        "id": "tPDjwApfXyyh",
        "outputId": "bf319226-87fc-4289-83da-9666602b4d0c"
      },
      "execution_count": null,
      "outputs": [
        {
          "output_type": "stream",
          "name": "stdout",
          "text": [
            "dict['Name']:  Zara\n",
            "dict['Age']:  7\n"
          ]
        }
      ]
    },
    {
      "cell_type": "markdown",
      "source": [
        "#**Update Nilai Dalam Dictionary Python**\n"
      ],
      "metadata": {
        "id": "6lpm4HVfX3dh"
      }
    },
    {
      "cell_type": "markdown",
      "source": [
        "Dapat memperbarui Dictionary dengan menambahkan entri baru atau pasangan nilai kunci, memodifikasi entri yang ada\n"
      ],
      "metadata": {
        "id": "M2Bu1UlhX_jZ"
      }
    },
    {
      "cell_type": "markdown",
      "source": [
        "##Mengubah Item\n"
      ],
      "metadata": {
        "id": "sjhTN5qbYCoh"
      }
    },
    {
      "cell_type": "markdown",
      "source": [
        "Untuk mengubah item, kita perlu menentukan terlebih dahulu key dari item yang ingin diubah. Sintaksis yang digunakan adalah (variabel[key]) =\n",
        "value_baru.\n"
      ],
      "metadata": {
        "id": "8Nmt5KeZYE8x"
      }
    },
    {
      "cell_type": "code",
      "source": [
        "#Update dictionary python\n",
        "dict = {'Name': 'Zara', 'Age': 7, 'Class': 'First'}\n",
        "dict['Age'] = 8; # Mengubah entri yang sudah ada\n",
        "dict['School'] = \"DPS School\" # Menambah entri baru\n",
        "print (\"dict['Age']: \", dict['Age'])\n",
        "print (\"dict['School']: \", dict['School'])"
      ],
      "metadata": {
        "colab": {
          "base_uri": "https://localhost:8080/"
        },
        "id": "h4kKr6MLYHup",
        "outputId": "ba27a1fe-38df-4bdf-ddb7-6ea3a7ee6798"
      },
      "execution_count": null,
      "outputs": [
        {
          "output_type": "stream",
          "name": "stdout",
          "text": [
            "dict['Age']:  8\n",
            "dict['School']:  DPS School\n"
          ]
        }
      ]
    },
    {
      "cell_type": "code",
      "source": [
        "menteri = {\"nama\": \"Budi\", \"umur\": 50}\n",
        "menteri[\"nama\"] = \"Adi\"\n",
        "print(menteri)"
      ],
      "metadata": {
        "colab": {
          "base_uri": "https://localhost:8080/"
        },
        "id": "o2obT252YNCx",
        "outputId": "c97ece43-d157-4e01-d29b-fd29ad0454e5"
      },
      "execution_count": null,
      "outputs": [
        {
          "output_type": "stream",
          "name": "stdout",
          "text": [
            "{'nama': 'Adi', 'umur': 50}\n"
          ]
        }
      ]
    },
    {
      "cell_type": "markdown",
      "source": [
        "##Menambah Item"
      ],
      "metadata": {
        "id": "lsNfa5UvYPK4"
      }
    },
    {
      "cell_type": "markdown",
      "source": [
        "Menambah item memiliki langkah yang sama dengan mengubah item. Bedanya, key yang dimasukkan adalah key baru yang belum ada di\n",
        "dalam dictionary. Sintaksis yang digunakan adalah (variabel[key_baru]) = value_baru."
      ],
      "metadata": {
        "id": "qeksKIvUYThg"
      }
    },
    {
      "cell_type": "code",
      "source": [
        "menteri = {\"nama\": \"Budi\", \"umur\": 50}\n",
        "menteri[\"kementerian\"] = \"Setneg\"\n",
        "print(menteri)"
      ],
      "metadata": {
        "colab": {
          "base_uri": "https://localhost:8080/"
        },
        "id": "tnESe3ZmYWKj",
        "outputId": "03c3c547-f609-4cc9-8ee9-feb8f702ae59"
      },
      "execution_count": null,
      "outputs": [
        {
          "output_type": "stream",
          "name": "stdout",
          "text": [
            "{'nama': 'Budi', 'umur': 50, 'kementerian': 'Setneg'}\n"
          ]
        }
      ]
    },
    {
      "cell_type": "markdown",
      "source": [
        "##Menghapus Item"
      ],
      "metadata": {
        "id": "hzoMXMA1WUJa"
      }
    },
    {
      "cell_type": "markdown",
      "source": [
        "Untuk menghapus item dalam dictionary, kita menggunakan fungsi .pop dengan sintaksis (variabel).pop(key_yang_ingin_dihapus).\n"
      ],
      "metadata": {
        "id": "h-PMQEHzYgCn"
      }
    },
    {
      "cell_type": "code",
      "source": [
        "menteri = {\"nama\": \"Budi\", \"umur\": 50, \"kementerian\": \"Setneg\"}\n",
        "print(menteri.pop(\"kementerian\"))"
      ],
      "metadata": {
        "id": "Po3NkUcbWQop",
        "colab": {
          "base_uri": "https://localhost:8080/"
        },
        "outputId": "7ca1905b-966d-4195-88b2-42d2e6df841f"
      },
      "execution_count": null,
      "outputs": [
        {
          "output_type": "stream",
          "name": "stdout",
          "text": [
            "Setneg\n"
          ]
        }
      ]
    },
    {
      "cell_type": "code",
      "source": [
        "#Contoh cara menghapus pada Dictionary Python\n",
        "dict = {'Name': 'Zara', 'Age': 7, 'Class': 'First'}\n",
        "\n",
        "# hapus entri dengan key 'Name'\n",
        "del dict['Name']\n",
        "\n",
        "# hapus semua entri di dict\n",
        "dict.clear()\n",
        "\n",
        "# hapus dictionary yang sudah ada\n",
        "del dict\n",
        "\n",
        "print (\"dict['Age']: \", dict['Age'])\n",
        "print (\"dict['School']: \", dict['School'])"
      ],
      "metadata": {
        "colab": {
          "base_uri": "https://localhost:8080/"
        },
        "id": "QXk_y-xGYlt_",
        "outputId": "dfc5550c-03e9-4e39-c642-fe703ec0cae4"
      },
      "execution_count": null,
      "outputs": [
        {
          "output_type": "stream",
          "name": "stdout",
          "text": [
            "dict['Age']:  dict['Age']\n",
            "dict['School']:  dict['School']\n"
          ]
        }
      ]
    }
  ]
}