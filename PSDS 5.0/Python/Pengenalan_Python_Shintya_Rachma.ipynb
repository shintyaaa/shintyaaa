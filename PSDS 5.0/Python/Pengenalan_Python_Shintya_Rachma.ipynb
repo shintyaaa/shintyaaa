{
  "nbformat": 4,
  "nbformat_minor": 0,
  "metadata": {
    "colab": {
      "provenance": []
    },
    "kernelspec": {
      "name": "python3",
      "display_name": "Python 3"
    },
    "language_info": {
      "name": "python"
    }
  },
  "cells": [
    {
      "cell_type": "markdown",
      "source": [
        "##Pengenalan Python"
      ],
      "metadata": {
        "id": "gKlCkrw0DBX5"
      }
    },
    {
      "cell_type": "markdown",
      "source": [
        "Phyton adalah Bahasa pemrograman tingkat tinggi dengan dynamic semantics, bersifat object, oriented, dan interpretatif. Bahasa pemrograman ini fokus dikembangkan pada keterbacaan bahasa pemrograman.\n",
        "\n",
        "1. **Bahasa Pemrograman Tingkat Tinggi (High Level Programming)**\n",
        "\n",
        " Artinya sintaks kode lebih mudah ditafsirkan oleh manusia.\n",
        "\n",
        "2. **Interpretatif**\n",
        "\n",
        " Ini artinya bahasa ini memerlukan intrepeter atau penerjemah. Ini memungkinkan kita untuk menggunakan Bahasa yang lebih mudah kita pahami.\n",
        "\n",
        "3. **Object Oriented**\n",
        "\n",
        " Ini berarti bahwa bahasa pemrograman ini berorientasi kepada objek. Hal ini membuat Phyton lebih mudah untuk dikembangkan.\n",
        "\n",
        "4. **Dynamic Semantic**\n",
        "\n",
        " Phyton secara otomatis akan menyesuaikan tipe dari suatu variable berdasarkan inputnya."
      ],
      "metadata": {
        "id": "e4iePV2whEk9"
      }
    },
    {
      "cell_type": "markdown",
      "source": [
        "##Mengapa Python ?"
      ],
      "metadata": {
        "id": "q80r0dSmh3XH"
      }
    },
    {
      "cell_type": "markdown",
      "source": [
        "\n",
        "\n",
        "1. Mudah dipahami\n",
        "2. Grafis & Open Source\n",
        "3. Dinamis\n",
        "4. Memiliki library terlengkap untuk data sains\n",
        "\n"
      ],
      "metadata": {
        "id": "7effZM6vh_JM"
      }
    },
    {
      "cell_type": "markdown",
      "source": [
        "##Struktur Program pada Python"
      ],
      "metadata": {
        "id": "ALg3DImVi9e-"
      }
    },
    {
      "cell_type": "markdown",
      "source": [
        "Python pada umumnya terdiri dari :\n",
        "\n",
        "1. **Statement**\n",
        "\n"
      ],
      "metadata": {
        "id": "X3x7TyeQjoex"
      }
    },
    {
      "cell_type": "code",
      "execution_count": 1,
      "metadata": {
        "colab": {
          "base_uri": "https://localhost:8080/",
          "height": 0
        },
        "id": "jxypCEN4C3jL",
        "outputId": "89d6e06d-03d8-4249-8778-8ad7e75d6463"
      },
      "outputs": [
        {
          "output_type": "stream",
          "name": "stdout",
          "text": [
            "belajar Python menyenangkan\n",
            "halo dunia\n"
          ]
        }
      ],
      "source": [
        "print(\"belajar Python menyenangkan\")\n",
        "print(\"halo dunia\")"
      ]
    },
    {
      "cell_type": "markdown",
      "source": [
        "2. **Variables**"
      ],
      "metadata": {
        "id": "FlD5iKT1kUDG"
      }
    },
    {
      "cell_type": "code",
      "source": [
        "bilangan1 = 5\n",
        "bilangan2 = 10\n",
        "kalimat = \"Pejuang Data 3\""
      ],
      "metadata": {
        "id": "WMq-rNzWkchg"
      },
      "execution_count": 2,
      "outputs": []
    },
    {
      "cell_type": "markdown",
      "source": [
        "3. **Literals** : Simbol-simbol yang dapat kita gunakan untuk mengisi suatu variabel.\n",
        "\n",
        "4. **Operators** : Simbol-simbol yang dapat digunakan untuk mengubah nilai satu variabel dengan melibatkan satu atau lebih variabel dan literal."
      ],
      "metadata": {
        "id": "lxzZD8BmkuZL"
      }
    },
    {
      "cell_type": "code",
      "source": [
        "bilangan1 + bilangan2"
      ],
      "metadata": {
        "colab": {
          "base_uri": "https://localhost:8080/",
          "height": 0
        },
        "id": "LKRuV0qvlmmL",
        "outputId": "068b900b-49b8-46cb-969c-eb730d803df5"
      },
      "execution_count": 3,
      "outputs": [
        {
          "output_type": "execute_result",
          "data": {
            "text/plain": [
              "15"
            ]
          },
          "metadata": {},
          "execution_count": 3
        }
      ]
    },
    {
      "cell_type": "markdown",
      "source": [
        "5. **Reserved Words** : Kumpulan kata-kata yang memiliki makna khusus dalam bahasa pemrograman Phyton. Kata `false` , `return` , dan `for` merupakan contoh dari reserved words.\n",
        "\n",
        "6. **Whitespace** : Pada bahasa Phyton, spasi dan tab memiliki makna khusus untuk menandai serangkaian blok dalam kode Phyton.\n",
        "\n",
        "7. **Comments** : Comments merupakan sekumpulan teks yang dituliskan di dalam sebuah program yang tidak akan mempengaruhi hasil dari sebuah pemrograman.\n",
        "\n",
        "Terdapat dua jenis comments di dalam Phyton, yaitu :\n",
        "\n",
        "a. **single line comment** (comments dalam satu baris) seperti contoh berikut :"
      ],
      "metadata": {
        "id": "GQia5_9mlt8q"
      }
    },
    {
      "cell_type": "code",
      "source": [
        "#Ini adalah Comment\n",
        "print(\"belajar Python\")"
      ],
      "metadata": {
        "colab": {
          "base_uri": "https://localhost:8080/",
          "height": 0
        },
        "id": "5rLoGLv8mN_O",
        "outputId": "8a260b18-7207-403c-bcfe-be8e49a83817"
      },
      "execution_count": 4,
      "outputs": [
        {
          "output_type": "stream",
          "name": "stdout",
          "text": [
            "belajar Python\n"
          ]
        }
      ]
    },
    {
      "cell_type": "markdown",
      "source": [
        "b. **multi line comment** (comments dalam beberapa baris) yang dapat dilakukan\n",
        "seperti pada contoh berikut :"
      ],
      "metadata": {
        "id": "36GijWE-m9mp"
      }
    },
    {
      "cell_type": "code",
      "source": [
        "'''\n",
        "Ini adalah komentar panjang\n",
        "Bisa digunakan untuk memberikan penjelasan\n",
        "panjang pada Sell Kode Phyton,\n",
        "Misal dokumentasi program, spesifikasi\n",
        "input output atau lainnya\n",
        "'''\n",
        "print('Belajar Phyton menyenangkan')"
      ],
      "metadata": {
        "colab": {
          "base_uri": "https://localhost:8080/",
          "height": 0
        },
        "id": "v6DlLUuznCS_",
        "outputId": "c6d6af57-10cb-47de-9340-d7f7ae9a2911"
      },
      "execution_count": 5,
      "outputs": [
        {
          "output_type": "stream",
          "name": "stdout",
          "text": [
            "Belajar Phyton menyenangkan\n"
          ]
        }
      ]
    }
  ]
}