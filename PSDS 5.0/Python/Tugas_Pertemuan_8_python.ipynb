{
  "nbformat": 4,
  "nbformat_minor": 0,
  "metadata": {
    "colab": {
      "provenance": []
    },
    "kernelspec": {
      "name": "python3",
      "display_name": "Python 3"
    },
    "language_info": {
      "name": "python"
    }
  },
  "cells": [
    {
      "cell_type": "markdown",
      "source": [
        "#**MATERI**"
      ],
      "metadata": {
        "id": "Q97zVtMPjs4Q"
      }
    },
    {
      "cell_type": "markdown",
      "source": [
        "##**List**"
      ],
      "metadata": {
        "id": "4u7CcnnXYh1K"
      }
    },
    {
      "cell_type": "markdown",
      "source": [
        "List adalah jenis kumpulan data terurut (ordered sequence), bisa diubah elemennya(mutable), bisa ditambahkan elemen baru atau menghapus elemen (changeable), dan merupakan salah satu variabel yang sering digunakan pada Python. Serupa, namun tak sama dengan array pada bahasa pemrograman lainnya. Bedanya, elemen List pada Python tidak harus memiliki tipe data yang sama. Mendeklarasikan List cukup mudah dengan kurung siku dan elemen yang dipisahkan dengan koma.\n",
        "\n",
        "Setiap data di dalamnya dapat diakses dengan indeks yang dimulai dari 0.                                                                                                                                                                                                                                                                                                                                                                                                                             "
      ],
      "metadata": {
        "id": "Rud0OWTxYhkd"
      }
    },
    {
      "cell_type": "code",
      "source": [
        "#contoh list\n",
        "L1=[1, 4, 2, 13]\n",
        "print(type(L1))\n",
        "\n",
        "L2=[\"a\",\"phyton\",3]\n",
        "print(type(L2))\n",
        "\n",
        "print(L1)\n",
        "print(L2)"
      ],
      "metadata": {
        "colab": {
          "base_uri": "https://localhost:8080/",
          "height": 0
        },
        "id": "vsE2WWBycSVX",
        "outputId": "99d7b832-e4f6-446d-976d-b6e051e65790"
      },
      "execution_count": 8,
      "outputs": [
        {
          "output_type": "stream",
          "name": "stdout",
          "text": [
            "<class 'list'>\n",
            "<class 'list'>\n",
            "[1, 4, 2, 13]\n",
            "['a', 'phyton', 3]\n"
          ]
        }
      ]
    },
    {
      "cell_type": "markdown",
      "source": [
        "Indeks di python(List,tuple) mulai dari 0"
      ],
      "metadata": {
        "id": "aKKmnt9SkJwP"
      }
    },
    {
      "cell_type": "code",
      "source": [
        "# Sifat-Sifat List\n",
        "\n",
        "#Terurut/Ordered\n",
        "print(\"memanggil List L1 dengan indeks urutan:\", L1[0:3])\n",
        "\n",
        "L1 = [1, \"Dua\", True, 2+3j]\n",
        "\n",
        "#Bisa diganti/Mutable\n",
        "L1[1] = 2\n",
        "print(\"List L1 setelah diganti elemennya:\", L1)\n",
        "\n",
        "#Dapat diindeks/Sliching\n",
        "print(\"Sliching List L1:\", L1[3])\n",
        "\n",
        "#Dapat diizinkan duplikasi\n",
        "L1 = [1, \"Dua\", True, 2+3j]\n",
        "print(\"Duplikasi pada List L1:\", L1)\n",
        "\n",
        "#Dapat mengubah data dengan mengganti elemen tertentu\n",
        "L1 = [1,\"Dua\", True, 2+3j]\n",
        "L1[2]=3\n",
        "print(\"Data setelah diubah:\", L1)\n",
        "\n",
        "#Dapat menambahkan elemen baru pada data\n",
        "L1 = [1,\"Dua\", True, 2+3j]\n",
        "L1.append(20)\n",
        "print(\"Data setelah ditambah elemennya:\", L1)\n",
        "\n",
        "#Dapat mengahpus elemen pada data (remove()= menghapus berdasarkan nama objek)\n",
        "L1 = [1,\"Dua\", True, 2+3j]\n",
        "L1.remove(2+3j)\n",
        "print(\"Data setelah dihapus elemennya:\", L1)"
      ],
      "metadata": {
        "colab": {
          "base_uri": "https://localhost:8080/"
        },
        "id": "U9nrEmO3cZDI",
        "outputId": "4cad6eba-c144-438a-da14-61a6af67c63e"
      },
      "execution_count": null,
      "outputs": [
        {
          "output_type": "stream",
          "name": "stdout",
          "text": [
            "memanggil List L1 dengan indeks urutan: [1, 4, 2]\n",
            "List L1 setelah diganti elemennya: [1, 2, 2, 13]\n",
            "Sliching List L1: 13\n",
            "Duplikasi pada List L1: [1, 'Dua', True, (2+3j), (2+3j)]\n",
            "Data setelah diubah: [1, 'Dua', 3, (2+3j)]\n",
            "Data setelah ditambah elemennya: [1, 'Dua', True, (2+3j), 20]\n",
            "Data setelah dihapus elemennya: [1, 'Dua', True]\n"
          ]
        }
      ]
    },
    {
      "cell_type": "code",
      "source": [
        "#menambahkan data menggunakan fungsi extend(menambahkan elemen baru pada list namun elemen\n",
        "#tersebut ditambahkan secara individual)\n",
        "L1 = [1, \"dua\", True, 2+3j]\n",
        "L1.extend(\"nanas\")\n",
        "print(L1)"
      ],
      "metadata": {
        "colab": {
          "base_uri": "https://localhost:8080/"
        },
        "id": "fbSMWuZiZzHB",
        "outputId": "fd04a141-dcb2-4ec9-b8b2-97ce74046701"
      },
      "execution_count": null,
      "outputs": [
        {
          "output_type": "stream",
          "name": "stdout",
          "text": [
            "[1, 'dua', True, (2+3j), ' ', 'n', 'a', 'n', 'a', 's']\n"
          ]
        }
      ]
    },
    {
      "cell_type": "code",
      "source": [
        "\n",
        "L1 = [1, \"dua\", True, 2+3j]\n",
        "L1.extend([\"nanas\"])\n",
        "print(L1)"
      ],
      "metadata": {
        "colab": {
          "base_uri": "https://localhost:8080/"
        },
        "id": "DQZmVpNAaOoE",
        "outputId": "326178fa-cbc6-4a77-9caf-51b0fe836fb7"
      },
      "execution_count": null,
      "outputs": [
        {
          "output_type": "stream",
          "name": "stdout",
          "text": [
            "[1, 'dua', True, (2+3j), ' nanas']\n"
          ]
        }
      ]
    },
    {
      "cell_type": "code",
      "source": [
        "#menambahkan data menggunakan fungsi insert(menambahkan elemen baru di list pada indeks tertentu)\n",
        "L1 = [1, \"dua\", True, 2+3j]\n",
        "L1.insert(2,5)\n",
        "print(L1)"
      ],
      "metadata": {
        "colab": {
          "base_uri": "https://localhost:8080/"
        },
        "id": "3LIFk674aY7-",
        "outputId": "da0e9d3b-8285-43f8-ed38-ebfca5bd296d"
      },
      "execution_count": null,
      "outputs": [
        {
          "output_type": "stream",
          "name": "stdout",
          "text": [
            "[1, 'dua', 5, True, (2+3j)]\n"
          ]
        }
      ]
    },
    {
      "cell_type": "code",
      "source": [
        "#menghapus elemen dari list menggunakan fungsi pop() (menghapus berdasarkan indeks)\n",
        "L1 = [1, \"dua\", True, 2+3j]\n",
        "L1.pop(2)\n",
        "print(L1)"
      ],
      "metadata": {
        "colab": {
          "base_uri": "https://localhost:8080/"
        },
        "id": "56WS4xJYaeag",
        "outputId": "fc5f0ed9-8d29-468a-d8c4-0bd54691e124"
      },
      "execution_count": null,
      "outputs": [
        {
          "output_type": "stream",
          "name": "stdout",
          "text": [
            "[1, 'dua', (2+3j)]\n"
          ]
        }
      ]
    },
    {
      "cell_type": "code",
      "source": [
        "L1 = [1, \"dua\", True, 2+3j]\n",
        "L1.pop()\n",
        "print(L1)"
      ],
      "metadata": {
        "colab": {
          "base_uri": "https://localhost:8080/"
        },
        "id": "YyxIqsSRay36",
        "outputId": "22602f41-3b82-4811-b418-a8bf95fff595"
      },
      "execution_count": null,
      "outputs": [
        {
          "output_type": "stream",
          "name": "stdout",
          "text": [
            "[1, 'dua', True]\n"
          ]
        }
      ]
    },
    {
      "cell_type": "markdown",
      "source": [
        "##**Tuple**"
      ],
      "metadata": {
        "id": "wUZh4DPdgwQ1"
      }
    },
    {
      "cell_type": "markdown",
      "source": [
        "Tuple adalah jenis dari struktur data yang tidak dapat diubah elemennya dan juga tidak bisa ditambahkan atau dihapus elemennya. Umumnya tuple digunakan untuk data yang bersifat sekali tulis dan dapat dieksekusi lebih cepat. Tuple didefinisikan dengan kurung dan elemen dipisahkan dengan koma.\n"
      ],
      "metadata": {
        "id": "GignNbhAV2E3"
      }
    },
    {
      "cell_type": "code",
      "source": [
        "#Contoh Tuple\n",
        "T1 = (1, \"dua\", True, 1+2j)\n",
        "print(\"Ini  adalah tuple \", T1)"
      ],
      "metadata": {
        "colab": {
          "base_uri": "https://localhost:8080/",
          "height": 0
        },
        "id": "v3t0ihZiWkes",
        "outputId": "3ba51ac2-dd32-4cd5-f825-1172bc7926df"
      },
      "execution_count": 1,
      "outputs": [
        {
          "output_type": "stream",
          "name": "stdout",
          "text": [
            "Ini  adalah tuple  (1, 'dua', True, (1+2j))\n"
          ]
        }
      ]
    },
    {
      "cell_type": "code",
      "source": [
        "T11 = 1, \"dua\", True, 1+2j\n",
        "print(\"Ini  adalah tuple \", T11)"
      ],
      "metadata": {
        "colab": {
          "base_uri": "https://localhost:8080/",
          "height": 0
        },
        "id": "pjbNdBnwW6ox",
        "outputId": "7837a673-fdb4-4cf9-ef40-01c69349e0d4"
      },
      "execution_count": 2,
      "outputs": [
        {
          "output_type": "stream",
          "name": "stdout",
          "text": [
            "Ini  adalah tuple  (1, 'dua', True, (1+2j))\n"
          ]
        }
      ]
    },
    {
      "cell_type": "code",
      "source": [
        "#menampilkan tipe struktur data tuple\n",
        "type(T1)"
      ],
      "metadata": {
        "colab": {
          "base_uri": "https://localhost:8080/",
          "height": 0
        },
        "id": "x7SUtlM4XEh_",
        "outputId": "9ff9c035-3dd8-4076-8597-3da9ceb6f179"
      },
      "execution_count": 5,
      "outputs": [
        {
          "output_type": "execute_result",
          "data": {
            "text/plain": [
              "tuple"
            ]
          },
          "metadata": {},
          "execution_count": 5
        }
      ]
    },
    {
      "cell_type": "code",
      "source": [
        "type(T11)"
      ],
      "metadata": {
        "colab": {
          "base_uri": "https://localhost:8080/",
          "height": 0
        },
        "id": "mPEcwur6XOrI",
        "outputId": "94ced625-191f-410e-ad3a-eb00187da718"
      },
      "execution_count": 6,
      "outputs": [
        {
          "output_type": "execute_result",
          "data": {
            "text/plain": [
              "tuple"
            ]
          },
          "metadata": {},
          "execution_count": 6
        }
      ]
    },
    {
      "cell_type": "markdown",
      "source": [
        "###Sifat-sifat Tuple"
      ],
      "metadata": {
        "id": "-ZLTP332XUx-"
      }
    },
    {
      "cell_type": "code",
      "source": [
        "#Terurut/ordered\n",
        "T1[0:3]"
      ],
      "metadata": {
        "colab": {
          "base_uri": "https://localhost:8080/",
          "height": 0
        },
        "id": "pa7gYR4aXS3W",
        "outputId": "e0cf2770-8cc8-4763-8f8a-91c50cd09a19"
      },
      "execution_count": 16,
      "outputs": [
        {
          "output_type": "execute_result",
          "data": {
            "text/plain": [
              "(1, 'dua', True)"
            ]
          },
          "metadata": {},
          "execution_count": 16
        }
      ]
    },
    {
      "cell_type": "code",
      "source": [
        "#Tidak bisa diganti/immutable, maka syntaks berikut akan terjadi eror\n",
        "T1[2]= \"manusia\""
      ],
      "metadata": {
        "colab": {
          "base_uri": "https://localhost:8080/",
          "height": 190
        },
        "id": "F83JZ3SaXhic",
        "outputId": "39cfb00c-02e3-4ee6-8cf2-1bfa3dbd1635"
      },
      "execution_count": 17,
      "outputs": [
        {
          "output_type": "error",
          "ename": "TypeError",
          "evalue": "ignored",
          "traceback": [
            "\u001b[0;31m---------------------------------------------------------------------------\u001b[0m",
            "\u001b[0;31mTypeError\u001b[0m                                 Traceback (most recent call last)",
            "\u001b[0;32m<ipython-input-17-e3d68bb34c44>\u001b[0m in \u001b[0;36m<cell line: 2>\u001b[0;34m()\u001b[0m\n\u001b[1;32m      1\u001b[0m \u001b[0;31m#Tidak bisa diganti/immutable\u001b[0m\u001b[0;34m\u001b[0m\u001b[0;34m\u001b[0m\u001b[0m\n\u001b[0;32m----> 2\u001b[0;31m \u001b[0mT1\u001b[0m\u001b[0;34m[\u001b[0m\u001b[0;36m2\u001b[0m\u001b[0;34m]\u001b[0m\u001b[0;34m=\u001b[0m \u001b[0;34m\"manusia\"\u001b[0m\u001b[0;34m\u001b[0m\u001b[0;34m\u001b[0m\u001b[0m\n\u001b[0m",
            "\u001b[0;31mTypeError\u001b[0m: 'tuple' object does not support item assignment"
          ]
        }
      ]
    },
    {
      "cell_type": "code",
      "source": [
        "#Dapat diindks/slicing\n",
        "print(\"elemen kedua dari tuple T1 adalah : \", T1[1])"
      ],
      "metadata": {
        "colab": {
          "base_uri": "https://localhost:8080/",
          "height": 0
        },
        "id": "wwUgidkiXsAh",
        "outputId": "72ea80aa-054f-4149-d54e-34780dc3ed76"
      },
      "execution_count": 18,
      "outputs": [
        {
          "output_type": "stream",
          "name": "stdout",
          "text": [
            "elemen kedua dari tuple T1 adalah :  dua\n"
          ]
        }
      ]
    },
    {
      "cell_type": "code",
      "source": [
        "#Dapat diijinkan duplikasi\n",
        "T2 = (3, 2.4, True, 2.4)\n",
        "T2"
      ],
      "metadata": {
        "id": "CnAy_WZEhx-9",
        "colab": {
          "base_uri": "https://localhost:8080/",
          "height": 0
        },
        "outputId": "74495c74-402d-45ca-97cb-9a8f0819eda5"
      },
      "execution_count": 19,
      "outputs": [
        {
          "output_type": "execute_result",
          "data": {
            "text/plain": [
              "(3, 2.4, True, 2.4)"
            ]
          },
          "metadata": {},
          "execution_count": 19
        }
      ]
    },
    {
      "cell_type": "code",
      "source": [
        "#tidak dapat menambah elemen baru, maka syntaks berikut akan terjadi eror\n",
        "T1.append(10)\n",
        "T1.append(50)\n",
        "print(f' tuple\\t: {T1}')"
      ],
      "metadata": {
        "colab": {
          "base_uri": "https://localhost:8080/",
          "height": 227
        },
        "id": "GXCLr7x5YkTy",
        "outputId": "ecb09369-e714-4d49-be62-b463e0f6e0cb"
      },
      "execution_count": 22,
      "outputs": [
        {
          "output_type": "error",
          "ename": "AttributeError",
          "evalue": "ignored",
          "traceback": [
            "\u001b[0;31m---------------------------------------------------------------------------\u001b[0m",
            "\u001b[0;31mAttributeError\u001b[0m                            Traceback (most recent call last)",
            "\u001b[0;32m<ipython-input-22-30308e306c6d>\u001b[0m in \u001b[0;36m<cell line: 2>\u001b[0;34m()\u001b[0m\n\u001b[1;32m      1\u001b[0m \u001b[0;31m#tidak dapat menambah elemen baru\u001b[0m\u001b[0;34m\u001b[0m\u001b[0;34m\u001b[0m\u001b[0m\n\u001b[0;32m----> 2\u001b[0;31m \u001b[0mT1\u001b[0m\u001b[0;34m.\u001b[0m\u001b[0mappend\u001b[0m\u001b[0;34m(\u001b[0m\u001b[0;36m10\u001b[0m\u001b[0;34m)\u001b[0m\u001b[0;34m\u001b[0m\u001b[0;34m\u001b[0m\u001b[0m\n\u001b[0m\u001b[1;32m      3\u001b[0m \u001b[0mT1\u001b[0m\u001b[0;34m.\u001b[0m\u001b[0mappend\u001b[0m\u001b[0;34m(\u001b[0m\u001b[0;36m50\u001b[0m\u001b[0;34m)\u001b[0m\u001b[0;34m\u001b[0m\u001b[0;34m\u001b[0m\u001b[0m\n\u001b[1;32m      4\u001b[0m \u001b[0mprint\u001b[0m\u001b[0;34m(\u001b[0m\u001b[0;34mf' tuple\\t: {T1}'\u001b[0m\u001b[0;34m)\u001b[0m\u001b[0;34m\u001b[0m\u001b[0;34m\u001b[0m\u001b[0m\n",
            "\u001b[0;31mAttributeError\u001b[0m: 'tuple' object has no attribute 'append'"
          ]
        }
      ]
    },
    {
      "cell_type": "code",
      "source": [
        "#tidak dapat menghapus elemen, maka syntaks berikut akan terjadi eror\n",
        "T1.remove(1)\n",
        "T1.remove(\"dua\")\n",
        "print(f' tuple\\t: {T1}')"
      ],
      "metadata": {
        "colab": {
          "base_uri": "https://localhost:8080/",
          "height": 209
        },
        "id": "N_L2lDemY8qw",
        "outputId": "b530e2ef-9c24-43f4-d764-303af44a0722"
      },
      "execution_count": 24,
      "outputs": [
        {
          "output_type": "error",
          "ename": "AttributeError",
          "evalue": "ignored",
          "traceback": [
            "\u001b[0;31m---------------------------------------------------------------------------\u001b[0m",
            "\u001b[0;31mAttributeError\u001b[0m                            Traceback (most recent call last)",
            "\u001b[0;32m<ipython-input-24-a669a75ff9f0>\u001b[0m in \u001b[0;36m<cell line: 1>\u001b[0;34m()\u001b[0m\n\u001b[0;32m----> 1\u001b[0;31m \u001b[0mT1\u001b[0m\u001b[0;34m.\u001b[0m\u001b[0mremove\u001b[0m\u001b[0;34m(\u001b[0m\u001b[0;36m1\u001b[0m\u001b[0;34m)\u001b[0m\u001b[0;34m\u001b[0m\u001b[0;34m\u001b[0m\u001b[0m\n\u001b[0m\u001b[1;32m      2\u001b[0m \u001b[0mT1\u001b[0m\u001b[0;34m.\u001b[0m\u001b[0mremove\u001b[0m\u001b[0;34m(\u001b[0m\u001b[0;34m\"dua\"\u001b[0m\u001b[0;34m)\u001b[0m\u001b[0;34m\u001b[0m\u001b[0;34m\u001b[0m\u001b[0m\n\u001b[1;32m      3\u001b[0m \u001b[0mprint\u001b[0m\u001b[0;34m(\u001b[0m\u001b[0;34mf' tuple\\t: {T1}'\u001b[0m\u001b[0;34m)\u001b[0m\u001b[0;34m\u001b[0m\u001b[0;34m\u001b[0m\u001b[0m\n",
            "\u001b[0;31mAttributeError\u001b[0m: 'tuple' object has no attribute 'remove'"
          ]
        }
      ]
    },
    {
      "cell_type": "markdown",
      "source": [
        "###Menggabungkan Tuple"
      ],
      "metadata": {
        "id": "oGGUZVooZI9B"
      }
    },
    {
      "cell_type": "code",
      "source": [
        "T3 = T1+T2\n",
        "T3"
      ],
      "metadata": {
        "colab": {
          "base_uri": "https://localhost:8080/",
          "height": 0
        },
        "id": "bO7mQCe7ZOYO",
        "outputId": "9d5842a1-7ac7-4d19-de38-2f33e0be97dc"
      },
      "execution_count": 25,
      "outputs": [
        {
          "output_type": "execute_result",
          "data": {
            "text/plain": [
              "(1, 'dua', True, (1+2j), 3, 2.4, True, 2.4)"
            ]
          },
          "metadata": {},
          "execution_count": 25
        }
      ]
    },
    {
      "cell_type": "markdown",
      "source": [
        "#**Latihan**\n",
        "\n"
      ],
      "metadata": {
        "id": "wj2_Stsfa6bu"
      }
    },
    {
      "cell_type": "markdown",
      "source": [
        "##Latihan 1"
      ],
      "metadata": {
        "id": "0YYVCbpumJN6"
      }
    },
    {
      "cell_type": "code",
      "source": [
        "#buat list kalian sendiri\n",
        "#buat elemen yang ada pada list yang kalian buat\n",
        "A1 = [False, \"meja\", 5.7, 4j+2, 8]\n",
        "A2 = [\"B\", 4, \"math\"]\n",
        "\n",
        "print(A1)\n",
        "print(type(A1))\n",
        "\n",
        "print(A2)\n",
        "print(type(A2))"
      ],
      "metadata": {
        "colab": {
          "base_uri": "https://localhost:8080/"
        },
        "id": "OHPW7ho8a85K",
        "outputId": "1b640f21-ea76-4d72-9145-8f778e6c9da1"
      },
      "execution_count": null,
      "outputs": [
        {
          "output_type": "stream",
          "name": "stdout",
          "text": [
            "[False, 'meja', 5.7, (2+4j), 8]\n",
            "<class 'list'>\n",
            "['B', 4, 'math']\n",
            "<class 'list'>\n"
          ]
        }
      ]
    },
    {
      "cell_type": "code",
      "source": [
        "A1 = [False, \"meja\", 5.7, 4j+2, 8]\n",
        "#1\n",
        "print(\"memanggil A1 dengan indeks urutan : \", L1[0:2])\n",
        "#2\n",
        "A1[1] = True\n",
        "print(\"List A1 terbaru : \", A1)\n",
        "#3\n",
        "print(\"Sliching List A1 : \", A1[3])\n",
        "#4\n",
        "A1 = [False, \"meja\", 5.7, 4j+2, 8]\n",
        "print(\"Duplikasi List A1 : \", A1)\n",
        "#5\n",
        "A1[2]=4\n",
        "print(\"A1 setelah diubah : \", A1)\n",
        "#6\n",
        "A1.append(56)\n",
        "print(\"A1 setelah ditambah elemennya : \", A1)\n",
        "#7\n",
        "A1.remove(4j+2)\n",
        "print(\"A1 setelah dihapus elemennya : \", A1)"
      ],
      "metadata": {
        "colab": {
          "base_uri": "https://localhost:8080/",
          "height": 0
        },
        "id": "qqv3Xy5xdRUg",
        "outputId": "1ea4a5ab-3590-4cc2-a1c8-ee6b26c5f278"
      },
      "execution_count": 14,
      "outputs": [
        {
          "output_type": "stream",
          "name": "stdout",
          "text": [
            "memanggil A1 dengan indeks urutan :  [1, 'Dua']\n",
            "List A1 terbaru :  [False, True, 5.7, (2+4j), 8]\n",
            "Sliching List A1 :  (2+4j)\n",
            "Duplikasi List A1 :  [False, 'meja', 5.7, (2+4j), 8]\n",
            "A1 setelah diubah :  [False, 'meja', 4, (2+4j), 8]\n",
            "A1 setelah ditambah elemennya :  [False, 'meja', 4, (2+4j), 8, 56]\n",
            "A1 setelah dihapus elemennya :  [False, 'meja', 4, 8, 56]\n"
          ]
        }
      ]
    },
    {
      "cell_type": "code",
      "source": [
        "A1 = [False, \"meja\", 5.7, 4j+2, 8]\n",
        "A1.extend(\"kuliah\")\n",
        "print(\"data A1 : \", A1)\n",
        "A2 = [False, \"meja\", 5.7, 4j+2, 8]\n",
        "A2.extend([\"kuliah\"])\n",
        "print(\"data A2 : \",  A2)\n",
        "A3 = [False, \"meja\", 5.7, 4j+2, 8]\n",
        "A3.insert(3,4)\n",
        "print(\"data A3 : \", A3)\n",
        "A4 = [False, \"meja\", 5.7, 4j+2, 8]\n",
        "A4.pop(3)\n",
        "print(\"data A4 : \", A4)\n",
        "A5 = [False, \"meja\", 5.7, 4j+2, 8]\n",
        "A5.pop()\n",
        "print(\"data A5 : \", A5)"
      ],
      "metadata": {
        "colab": {
          "base_uri": "https://localhost:8080/",
          "height": 0
        },
        "id": "g3dfWV7leTm4",
        "outputId": "8a6405a5-5ab4-4d7e-c690-9b70a29981ff"
      },
      "execution_count": 28,
      "outputs": [
        {
          "output_type": "stream",
          "name": "stdout",
          "text": [
            "data A1 :  [False, 'meja', 5.7, (2+4j), 8, 'k', 'u', 'l', 'i', 'a', 'h']\n",
            "data A2 :  [False, 'meja', 5.7, (2+4j), 8, 'kuliah']\n",
            "data A3 :  [False, 'meja', 5.7, 4, (2+4j), 8]\n",
            "data A4 :  [False, 'meja', 5.7, 8]\n",
            "data A5 :  [False, 'meja', 5.7, (2+4j)]\n"
          ]
        }
      ]
    },
    {
      "cell_type": "markdown",
      "source": [
        "##Latihan 2"
      ],
      "metadata": {
        "id": "G3HgQD1qZgDC"
      }
    },
    {
      "cell_type": "code",
      "source": [
        "#buatlah tuplemu sendiri\n",
        "#buatlah tuple kedua lalu gabungkan 2 tuple yang telah kamu buat\n",
        "\n",
        "Tuple1 = (56+9j, False, \"latihan tuple\", 479, 12.4)\n",
        "print(\"Data tuple yang pertama : \", Tuple1)\n",
        "print(type(Tuple1))"
      ],
      "metadata": {
        "colab": {
          "base_uri": "https://localhost:8080/",
          "height": 0
        },
        "id": "W-36cw1rZatX",
        "outputId": "667783ff-54ba-46cd-8d46-0cf778cdb0bc"
      },
      "execution_count": 32,
      "outputs": [
        {
          "output_type": "stream",
          "name": "stdout",
          "text": [
            "Data tuple yang pertama :  ((56+9j), False, 'latihan tuple', 479, 12.4)\n",
            "<class 'tuple'>\n"
          ]
        }
      ]
    },
    {
      "cell_type": "code",
      "source": [
        "#1\n",
        "Tuple1[2:4]\n"
      ],
      "metadata": {
        "colab": {
          "base_uri": "https://localhost:8080/",
          "height": 0
        },
        "id": "WtqSJHrEh3yf",
        "outputId": "76f7ff87-e9a0-46d4-9dff-e1dce004d32b"
      },
      "execution_count": 36,
      "outputs": [
        {
          "output_type": "execute_result",
          "data": {
            "text/plain": [
              "('latihan tuple', 479)"
            ]
          },
          "metadata": {},
          "execution_count": 36
        }
      ]
    },
    {
      "cell_type": "code",
      "source": [
        "#2\n",
        "print(\"menunjukkan elemen ke lima dari tuple yang pertama : \", Tuple1[4])\n"
      ],
      "metadata": {
        "colab": {
          "base_uri": "https://localhost:8080/",
          "height": 0
        },
        "id": "2NuIJnN_jncI",
        "outputId": "356306f7-1992-49ef-8b63-c172b5d68bba"
      },
      "execution_count": 37,
      "outputs": [
        {
          "output_type": "stream",
          "name": "stdout",
          "text": [
            "menunjukkan elemen ke lima dar1 tuple yang pertama :  12.4\n"
          ]
        }
      ]
    },
    {
      "cell_type": "code",
      "source": [
        "#3\n",
        "T_pertama = (56+9j, False, \"latihan tuple\", 479, 12.4)\n",
        "print(\"T_pertama merupakan duplikasi dari Tuple1 : \", T_pertama)"
      ],
      "metadata": {
        "colab": {
          "base_uri": "https://localhost:8080/",
          "height": 0
        },
        "id": "aTGHARBRjph2",
        "outputId": "f4157334-81bc-48d1-958e-48af4950aa92"
      },
      "execution_count": 38,
      "outputs": [
        {
          "output_type": "stream",
          "name": "stdout",
          "text": [
            "T_pertama merupakan duplikasi dari Tuple1 :  ((56+9j), False, 'latihan tuple', 479, 12.4)\n"
          ]
        }
      ]
    },
    {
      "cell_type": "code",
      "source": [
        "#Buat tuple baru\n",
        "Tuple2 = (True, 1.6, (1+108j), 2, \"semangat belajarnya\",)\n",
        "print(\"Data tuple yang kedua : \", Tuple2)\n",
        "print(type(Tuple2))"
      ],
      "metadata": {
        "colab": {
          "base_uri": "https://localhost:8080/",
          "height": 0
        },
        "id": "2jygP2FShUs8",
        "outputId": "88dbe557-8e36-4a3f-be96-1ed8f5310bbf"
      },
      "execution_count": 30,
      "outputs": [
        {
          "output_type": "stream",
          "name": "stdout",
          "text": [
            "Data tuple yang kedua :  (True, 1.6, (1+108j), 2, 'semangat belajarnya')\n",
            "<class 'tuple'>\n"
          ]
        }
      ]
    },
    {
      "cell_type": "code",
      "source": [
        "Tuple3 = Tuple1+Tuple2\n",
        "print(\"inilah gabungan dari kedua tuple : \", Tuple3)"
      ],
      "metadata": {
        "colab": {
          "base_uri": "https://localhost:8080/",
          "height": 0
        },
        "id": "oDcNJn7fj04m",
        "outputId": "308cecc8-67e0-45e8-b9ff-12df64a72f82"
      },
      "execution_count": 40,
      "outputs": [
        {
          "output_type": "stream",
          "name": "stdout",
          "text": [
            "inilah gabungan dari kedua tuple :  ((56+9j), False, 'latihan tuple', 479, 12.4, True, 1.6, (1+108j), 2, 'semangat belajarnya')\n"
          ]
        }
      ]
    }
  ]
}