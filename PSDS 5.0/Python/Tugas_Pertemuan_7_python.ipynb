{
  "nbformat": 4,
  "nbformat_minor": 0,
  "metadata": {
    "colab": {
      "provenance": []
    },
    "kernelspec": {
      "name": "python3",
      "display_name": "Python 3"
    },
    "language_info": {
      "name": "python"
    }
  },
  "cells": [
    {
      "cell_type": "markdown",
      "source": [
        "##**Operator**"
      ],
      "metadata": {
        "id": "HS_9Gqx1ThVl"
      }
    },
    {
      "cell_type": "markdown",
      "source": [
        "Operator simbol-simbol yang dapat digunakan untuk mengubah nilai dari satu variabel dengan melibatkan satu atau lebih variabel dan literal.\n",
        "\n",
        "Tipe-tipe operator :\n",
        "\n",
        "1. Operator Aritmatika\n",
        "2. Operator Assignment\n",
        "3. Operator Pembanding\n",
        "4. Operator Logika\n",
        "5. Operator Membership\n",
        "\n"
      ],
      "metadata": {
        "id": "m-e_ZAQ4ThHY"
      }
    },
    {
      "cell_type": "markdown",
      "source": [
        "###Operator Aritmatika"
      ],
      "metadata": {
        "id": "lQ7Kc2RGsghc"
      }
    },
    {
      "cell_type": "markdown",
      "source": [
        "Operator Aritmatika digunakan untuk melakukan operasi mtematika yng umum.\n",
        "\n",
        "Macam-macam Operator Aritmatika, yaitu:\n",
        "\n",
        "`+`  : Penjumlahan\n",
        "\n",
        "`-`  : Pengurangan\n",
        "\n",
        "`*`  : Perkalian\n",
        "\n",
        "`/`  : Pembagian\n",
        "\n",
        "`%`  : Modulus\n",
        "\n",
        "`**` : Perpangkatan\n",
        "\n",
        "`//` : Pembagian dengan hasil pembulatan flooring"
      ],
      "metadata": {
        "id": "9ZEXSacNssn7"
      }
    },
    {
      "cell_type": "markdown",
      "source": [
        "####Contoh Penggunaan Operator Aritmatika"
      ],
      "metadata": {
        "id": "s3sINYqnunzK"
      }
    },
    {
      "cell_type": "code",
      "execution_count": null,
      "metadata": {
        "id": "D6DSXXntTcpF",
        "colab": {
          "base_uri": "https://localhost:8080/"
        },
        "outputId": "6bd444fe-88a0-4ba8-e964-72fc5e044849"
      },
      "outputs": [
        {
          "output_type": "stream",
          "name": "stdout",
          "text": [
            "Penjumlahan\n",
            "4\n",
            "Pengurangan\n",
            "--------------------\n",
            "-1\n",
            "Perkalian\n",
            "--------------------\n",
            "6\n",
            "Pembagian\n",
            "--------------------\n",
            "0.6666666666666666\n",
            "Modulus\n",
            "--------------------\n",
            "1\n",
            "Perpangkatan\n",
            "--------------------\n",
            "8\n",
            "Pembagian pembulatan flooring\n",
            "--------------------\n",
            "1\n"
          ]
        }
      ],
      "source": [
        "#Penjumlahan\n",
        "print('Penjumlahan')\n",
        "print (2+2)\n",
        "\n",
        "#Pengurangan\n",
        "print('Pengurangan')\n",
        "print('-'*20)\n",
        "print(2-3)\n",
        "\n",
        "#Perkalian\n",
        "print('Perkalian')\n",
        "print('-'*20)\n",
        "print(2*3)\n",
        "\n",
        "#Pembagian\n",
        "print('Pembagian')\n",
        "print('-'*20)\n",
        "print(2/3)\n",
        "\n",
        "#Modulus\n",
        "print('Modulus')\n",
        "print('-'*20)\n",
        "print(3%2)\n",
        "\n",
        "#Perpangkatan\n",
        "print('Perpangkatan')\n",
        "print('-'*20)\n",
        "print(2**3)\n",
        "\n",
        "#Pembagian dengan hasil pembulatan flooring\n",
        "print('Pembagian pembulatan flooring')\n",
        "print('-'*20)\n",
        "print(3//2)"
      ]
    },
    {
      "cell_type": "markdown",
      "source": [
        "###Latihan Operator 1"
      ],
      "metadata": {
        "id": "db4MqDKy7Hmv"
      }
    },
    {
      "cell_type": "code",
      "source": [
        "#Buatlah program penerapan oprator arimatika\n",
        "#dengan nilai-nilai yang berbeda dari contoh ditas"
      ],
      "metadata": {
        "id": "D4aES6wP7OFE"
      },
      "execution_count": null,
      "outputs": []
    },
    {
      "cell_type": "code",
      "source": [
        "#Penjumlahan\n",
        "print('Contoh Lain Penjumlahan')\n",
        "print ('5 + 2 = ', 5+2)\n",
        "\n",
        "#Pengurangan\n",
        "print('Contoh Lain Pengurangan')\n",
        "print('6 - 3 = ',6-3)\n",
        "\n",
        "#Perkalian\n",
        "print('Contoh Lain Perkalian')\n",
        "print('2 * 100 = ',2*100)\n",
        "\n",
        "#Pembagian\n",
        "print('Contoh Lain Pembagian')\n",
        "print('99 / 3 = ',99/3)\n",
        "\n",
        "#Modulus\n",
        "print('Contoh Lain Modulus')\n",
        "print('397 % 7 = ',397%7)\n",
        "\n",
        "#Perpangkatan\n",
        "print('Contoh Lain Perpangkatan')\n",
        "print('16 ** 3 = ',16**3)\n",
        "\n",
        "#Pembagian dengan hasil pembulatan flooring\n",
        "print('Contoh Lain Pembagian pembulatan flooring')\n",
        "print('175//68 = ',175//68)"
      ],
      "metadata": {
        "colab": {
          "base_uri": "https://localhost:8080/"
        },
        "id": "ewv9aXwm7hLr",
        "outputId": "4375e81f-d267-4bb6-bd2f-42dc6b5b5299"
      },
      "execution_count": null,
      "outputs": [
        {
          "output_type": "stream",
          "name": "stdout",
          "text": [
            "Contoh Lain Penjumlahan\n",
            "5 + 2 =  7\n",
            "Contoh Lain Pengurangan\n",
            "6 - 3 =  3\n",
            "Contoh Lain Perkalian\n",
            "2 * 100 =  200\n",
            "Contoh Lain Pembagian\n",
            "99 / 3 =  33.0\n",
            "Contoh Lain Modulus\n",
            "397 % 7 =  5\n",
            "Contoh Lain Perpangkatan\n",
            "16 ** 3 =  4096\n",
            "Contoh Lain Pembagian pembulatan flooring\n",
            "175//68 =  2\n"
          ]
        }
      ]
    },
    {
      "cell_type": "markdown",
      "source": [
        "###Operator Assignment"
      ],
      "metadata": {
        "id": "6P_0_kWv9V1Y"
      }
    },
    {
      "cell_type": "markdown",
      "source": [
        "Operator Assinment digunakan untuk menyimpan nilai menjadi satu variabel\n",
        "```\n",
        "=  : Contohnya x = 5 ->  x = 5\n",
        "\n",
        "+= : Contohnya x = x + 5 -> x += 5\n",
        "\n",
        "-= : Contohnya x = x - 5 -> x -= 5\n",
        "\n",
        "*= : Contohnya x = x * 5 -> x *= 5\n",
        "\n",
        "/= : Contohnya x = x / 5 -> x /= 5\n",
        "\n",
        "%= : Contohnya x = x % 5 -> x %= 5\n",
        "\n",
        "//=: Contohnya x = x//5 -> x //= 5\n",
        "\n",
        "**=: Contohnya x = x ** 5 -> x **= 5\n",
        "```"
      ],
      "metadata": {
        "id": "QI043lQ_9bw_"
      }
    },
    {
      "cell_type": "markdown",
      "source": [
        "####Contoh Penggunaan Operator Assignment"
      ],
      "metadata": {
        "id": "HIfwCvkCmRGn"
      }
    },
    {
      "cell_type": "code",
      "source": [
        "#Penjumlahan\n",
        "print('Penjumlahan')\n",
        "x=5\n",
        "x=x+5\n",
        "print(x)\n",
        "x=5\n",
        "x+=5\n",
        "print(x)\n",
        "print('-'*20)\n",
        "\n",
        "#Pengurangan\n",
        "print('Pengurangan')\n",
        "x=5\n",
        "x=x-5\n",
        "print(x)\n",
        "x=5\n",
        "x-=3\n",
        "print(x)\n",
        "print('-'*20)\n",
        "\n",
        "#Perkalian\n",
        "print('Perkalian')\n",
        "x=5\n",
        "x=x*5\n",
        "print(x)\n",
        "x=5\n",
        "x*=3\n",
        "print(x)\n",
        "print('-'*20)\n",
        "\n",
        "#Pembagian\n",
        "print('pembagian')\n",
        "x=5\n",
        "x=x/5\n",
        "print(x)\n",
        "x=5\n",
        "x/=3\n",
        "print(x)\n",
        "print('-'*20)\n",
        "\n",
        "#Modulus\n",
        "print('Modulus')\n",
        "x=5\n",
        "x=x%5\n",
        "print(x)\n",
        "x=5\n",
        "x%=3\n",
        "print(x)\n",
        "print(20)\n",
        "\n",
        "#Pembagian Flooring\n",
        "print('Pembagian Flooring')\n",
        "x=5\n",
        "x=x//5\n",
        "print(x)\n",
        "x=5\n",
        "x//-3\n",
        "print(x)\n",
        "print('-'*20)\n",
        "\n",
        "#Perpangkatan print(\"Perpangkatan')\n",
        "x=5\n",
        "x=x**5\n",
        "print(x)\n",
        "x=5\n",
        "x**=-3\n",
        "print(x)\n",
        "print('-'*20)"
      ],
      "metadata": {
        "colab": {
          "base_uri": "https://localhost:8080/"
        },
        "id": "2fUQYzQMkR70",
        "outputId": "55f082e7-8086-4f0a-e14e-043375d78ab6"
      },
      "execution_count": null,
      "outputs": [
        {
          "output_type": "stream",
          "name": "stdout",
          "text": [
            "Penjumlahan\n",
            "10\n",
            "10\n",
            "--------------------\n",
            "Pengurangan\n",
            "0\n",
            "2\n",
            "--------------------\n",
            "Perkalian\n",
            "25\n",
            "15\n",
            "--------------------\n",
            "pembagian\n",
            "1.0\n",
            "1.6666666666666667\n",
            "--------------------\n",
            "Modulus\n",
            "0\n",
            "2\n",
            "20\n",
            "Pembagian Flooring\n",
            "1\n",
            "5\n",
            "--------------------\n",
            "3125\n",
            "0.008\n",
            "--------------------\n"
          ]
        }
      ]
    },
    {
      "cell_type": "markdown",
      "source": [
        "###Latihan Operator 2"
      ],
      "metadata": {
        "id": "n_29HBoEp1lS"
      }
    },
    {
      "cell_type": "code",
      "source": [
        "#Buatlah program penerapan oprator assignment\n",
        "#dengan nilai-nilai yang berbeda dari contoh ditas"
      ],
      "metadata": {
        "id": "uhxqtd2NqCtS"
      },
      "execution_count": null,
      "outputs": []
    },
    {
      "cell_type": "code",
      "source": [
        "#Penjumlahan\n",
        "print('Penjumlahan')\n",
        "x=8\n",
        "x=x+4\n",
        "print('X1 = ',x)\n",
        "x=6\n",
        "x+=5\n",
        "print('X2 = ',x)\n",
        "\n",
        "#Pengurangan\n",
        "print('Pengurangan')\n",
        "x=8\n",
        "x=x-3\n",
        "print('X1 = ',x)\n",
        "x=8\n",
        "x-=3\n",
        "print('X2 = ',x)\n",
        "\n",
        "#Perkalian\n",
        "print('Perkalian')\n",
        "x=4\n",
        "x=x*2\n",
        "print('X1 = ',x)\n",
        "x=4\n",
        "x*=7\n",
        "print('X2 = ',x)\n",
        "\n",
        "#Pembagian\n",
        "print('pembagian')\n",
        "x=100\n",
        "x=x/4\n",
        "print('X1 = ',x)\n",
        "x=86\n",
        "x/=3\n",
        "print('X2 = ',x)\n",
        "\n",
        "#Modulus\n",
        "print('Modulus')\n",
        "x=99\n",
        "x=x%6\n",
        "print('X1 = ',x)\n",
        "x=700\n",
        "x%=7\n",
        "print('X2 = ',x)\n",
        "\n",
        "#Pembagian Flooring\n",
        "print('Pembagian Flooring')\n",
        "x=176\n",
        "x=x//3\n",
        "print('X1 = ',x)\n",
        "x=65\n",
        "x//=3\n",
        "print('X2 = ',x)\n",
        "\n",
        "#Perpangkatan\n",
        "print('Perpangkatan')\n",
        "x=59\n",
        "x=x**2\n",
        "print('X1 = ',x)\n",
        "x=8\n",
        "x**=-4\n",
        "print('X2 = ',x)"
      ],
      "metadata": {
        "colab": {
          "base_uri": "https://localhost:8080/"
        },
        "id": "fgBozXXpn740",
        "outputId": "4a9031fa-bd77-4fc2-853e-bac0588356af"
      },
      "execution_count": null,
      "outputs": [
        {
          "output_type": "stream",
          "name": "stdout",
          "text": [
            "Penjumlahan\n",
            "X1 =  12\n",
            "X2 =  11\n",
            "Pengurangan\n",
            "X1 =  5\n",
            "X2 =  5\n",
            "Perkalian\n",
            "X1 =  8\n",
            "X2 =  28\n",
            "pembagian\n",
            "X1 =  25.0\n",
            "X2 =  28.666666666666668\n",
            "Modulus\n",
            "X1 =  3\n",
            "X2 =  0\n",
            "Pembagian Flooring\n",
            "X1 =  58\n",
            "X2 =  21\n",
            "Perpangkatan\n",
            "X1 =  3481\n",
            "X2 =  0.000244140625\n"
          ]
        }
      ]
    },
    {
      "cell_type": "markdown",
      "source": [
        "###Operator Pembanding"
      ],
      "metadata": {
        "id": "N_u4YanDqXAG"
      }
    },
    {
      "cell_type": "markdown",
      "source": [
        "Operator pembanding  digunakan untuk membandingkan 2 nilai  atau variabel\n",
        "\n",
        "Macam-macam operator pembanding :\n",
        "```\n",
        "== -> samadengan\n",
        "\n",
        "!= -> tidak samadengan\n",
        "\n",
        "> -> lebih dari\n",
        "\n",
        "< -> kurang dari\n",
        "\n",
        ">= -> lebih dari dan samadengan\n",
        "\n",
        "<= -> kurang dari dan samadengan\n",
        "```"
      ],
      "metadata": {
        "id": "Uj1PexHjqjUK"
      }
    },
    {
      "cell_type": "markdown",
      "source": [
        "####Contoh penggunaan operator pembanding\n"
      ],
      "metadata": {
        "id": "fcQ-5o6jruIW"
      }
    },
    {
      "cell_type": "code",
      "source": [
        "print(2==2)\n",
        "print(2!=2)\n",
        "print(2>2)\n",
        "print(2<2)\n",
        "print(2>=2)\n",
        "print(2<=2)"
      ],
      "metadata": {
        "colab": {
          "base_uri": "https://localhost:8080/"
        },
        "id": "OIUuKneqr2vc",
        "outputId": "0808e83b-d048-4a52-8f8b-09bf9504cdb0"
      },
      "execution_count": null,
      "outputs": [
        {
          "output_type": "stream",
          "name": "stdout",
          "text": [
            "True\n",
            "False\n",
            "False\n",
            "False\n",
            "True\n",
            "True\n"
          ]
        }
      ]
    },
    {
      "cell_type": "markdown",
      "source": [
        "###Latihan Operator 3"
      ],
      "metadata": {
        "id": "Oq1Ek5rZsi9r"
      }
    },
    {
      "cell_type": "code",
      "source": [
        "#Buatlah program penerapan oprator pembanding\n",
        "#dengan nilai-nilai yang berbeda dari contoh ditas"
      ],
      "metadata": {
        "id": "uk_86y4cslXB"
      },
      "execution_count": null,
      "outputs": []
    },
    {
      "cell_type": "code",
      "source": [
        "print(5==2)\n",
        "print(8!=2)\n",
        "print(9>6)\n",
        "print(9<6)\n",
        "print(11>=89)\n",
        "print(80<=200)"
      ],
      "metadata": {
        "colab": {
          "base_uri": "https://localhost:8080/"
        },
        "id": "ljA2kN62sznM",
        "outputId": "e2533e1c-0d11-4a0a-f097-2a2f1e4c8c47"
      },
      "execution_count": null,
      "outputs": [
        {
          "output_type": "stream",
          "name": "stdout",
          "text": [
            "False\n",
            "True\n",
            "True\n",
            "False\n",
            "False\n",
            "True\n"
          ]
        }
      ]
    },
    {
      "cell_type": "markdown",
      "source": [
        "###Operator Logika"
      ],
      "metadata": {
        "id": "aFkTdIGczwyv"
      }
    },
    {
      "cell_type": "markdown",
      "source": [
        "\n",
        "Operator logika digunakan untuk mengkombinasikan statement statement kondisional\n",
        "\n",
        "Macam macam operator logika:\n",
        "```\n",
        "and -> kondisi menjadi benar apabila semua statementnya benar\n",
        "\n",
        "or -> kondisi menjadi benar apabila salah satu statementnya ada yang benar\n",
        "\n",
        "not -> membalik hasil adri benar ke salah dan salah ke benar\n",
        "```\n"
      ],
      "metadata": {
        "id": "cO-tfExatFLL"
      }
    },
    {
      "cell_type": "markdown",
      "source": [
        "####Contoh penggunaan operator loogika"
      ],
      "metadata": {
        "id": "9BUAp_e4yoZa"
      }
    },
    {
      "cell_type": "code",
      "source": [
        "print(True and False)\n",
        "print(False or False)\n",
        "print(not False and True)"
      ],
      "metadata": {
        "colab": {
          "base_uri": "https://localhost:8080/"
        },
        "id": "RqglMackyr-w",
        "outputId": "2ad6062e-2892-4a04-b05f-780e62244456"
      },
      "execution_count": null,
      "outputs": [
        {
          "output_type": "stream",
          "name": "stdout",
          "text": [
            "False\n",
            "False\n",
            "True\n"
          ]
        }
      ]
    },
    {
      "cell_type": "markdown",
      "source": [
        "###Latihan Operator 4\n",
        "\n"
      ],
      "metadata": {
        "id": "K-HaDyJVy5Gf"
      }
    },
    {
      "cell_type": "code",
      "source": [
        "# Buatlah program penerapan operator logika\n",
        "# dengan nilai nilai yang berbeda dari contoh diatas"
      ],
      "metadata": {
        "id": "T4KijEljzFHQ"
      },
      "execution_count": null,
      "outputs": []
    },
    {
      "cell_type": "code",
      "source": [
        "print(True and True)\n",
        "print(False or True)\n",
        "print(not True and False)"
      ],
      "metadata": {
        "colab": {
          "base_uri": "https://localhost:8080/"
        },
        "id": "DlbrQhUpzNk_",
        "outputId": "c5d114a4-06c3-4043-9070-228ae1f19e9e"
      },
      "execution_count": null,
      "outputs": [
        {
          "output_type": "stream",
          "name": "stdout",
          "text": [
            "True\n",
            "True\n",
            "False\n"
          ]
        }
      ]
    },
    {
      "cell_type": "markdown",
      "source": [
        "###Operator Membership / Keanggotaan"
      ],
      "metadata": {
        "id": "zk8FMPeizlAm"
      }
    },
    {
      "cell_type": "markdown",
      "source": [
        "Operator keanggotaan digunakan untuk menguji apakah urutan disajikan dalam suatu objek\n",
        "\n",
        "Macam macam operator Keanggotaan:\n",
        "```\n",
        "in -> return True ketika nilai tertentu dalam sebuah urutan ada\n",
        "\n",
        "not in -> return True ketika nilai tertentu dalam sebuah uruta tidak ada\n",
        "```"
      ],
      "metadata": {
        "id": "g9qpBOsMzcVz"
      }
    },
    {
      "cell_type": "markdown",
      "source": [
        "####Contoh penggunaan operator keanggotaan"
      ],
      "metadata": {
        "id": "3yxvoDat0I_Y"
      }
    },
    {
      "cell_type": "code",
      "source": [
        "a=(1,2,3,4,5,6)\n",
        "b=2\n",
        "\n",
        "print(b in a)\n",
        "\n",
        "print('_'*20)\n",
        "\n",
        "a=(1,2,3,4,5,6)\n",
        "b=7\n",
        "print(b not in a)"
      ],
      "metadata": {
        "colab": {
          "base_uri": "https://localhost:8080/"
        },
        "id": "JqiSa0iS0R3E",
        "outputId": "cbe3ebd2-3c48-49ce-b002-07f1ce179369"
      },
      "execution_count": null,
      "outputs": [
        {
          "output_type": "stream",
          "name": "stdout",
          "text": [
            "True\n",
            "____________________\n",
            "True\n"
          ]
        }
      ]
    },
    {
      "cell_type": "markdown",
      "source": [
        "###Latihan operator 5"
      ],
      "metadata": {
        "id": "pE-G1pi603Y3"
      }
    },
    {
      "cell_type": "code",
      "source": [
        "## Buatlah program penerapan operator keanggotaan membership\n",
        "#dengan nilai nilai yang berbeda dari contoh diatas"
      ],
      "metadata": {
        "id": "40Qz0BYH06p-"
      },
      "execution_count": null,
      "outputs": []
    },
    {
      "cell_type": "code",
      "source": [
        "a=(1,3,5,7,9,11,13,15)\n",
        "b=6\n",
        "\n",
        "print(b in a)\n",
        "print('_'*20)\n",
        "a=(1,2,3,4,5,6)\n",
        "b=2\n",
        "print(b not in a)"
      ],
      "metadata": {
        "colab": {
          "base_uri": "https://localhost:8080/"
        },
        "id": "FrXcjL4b0h9n",
        "outputId": "93ac9921-6269-4e3e-aaf1-2bd897cd633a"
      },
      "execution_count": null,
      "outputs": [
        {
          "output_type": "stream",
          "name": "stdout",
          "text": [
            "False\n",
            "____________________\n",
            "False\n"
          ]
        }
      ]
    },
    {
      "cell_type": "markdown",
      "source": [
        "##**Variabel**"
      ],
      "metadata": {
        "id": "bCWdoarp3ArW"
      }
    },
    {
      "cell_type": "markdown",
      "source": [
        "Variabel : Lokal penyimpanan yang dapat digunakan untuk menampung sebuah data atau informasi.\n",
        "\n",
        "Syarat syarat penamaan variabel\n",
        "\n",
        "1. Karakter - karakter yang digunakan untuk penamaan variable adalah alphabet, angka, dan underscore.\n",
        "\n",
        "2. Karakter pertama variabel harus berupa huruf atau garis bawah/underscore dan tidak bisa berupa angka\n",
        "\n",
        "3. Nama sebuah variabel tidak bisa menggunakan keyword atau reserved words dari bahasa python seperti for, if, dan lainnya\n",
        "\n",
        "4. Karakter pada nama variabel bersifat sensitif (case-sensitif)"
      ],
      "metadata": {
        "id": "DSbXye-j3Fg9"
      }
    },
    {
      "cell_type": "code",
      "source": [
        "#membuat variabel\n",
        "kalimat = 'ini adalah variabel'\n",
        "bilangan1 = 4\n",
        "bilangan2 = 2.5\n",
        "bilangan3 = True\n",
        "bilangan4 = 1j + 4\n",
        "\n",
        "# menampilkan variabel\n",
        "print(kalimat)\n",
        "print(bilangan1)\n",
        "print(bilangan2)\n",
        "print(bilangan3)\n",
        "print(bilangan4)\n"
      ],
      "metadata": {
        "colab": {
          "base_uri": "https://localhost:8080/"
        },
        "id": "PDNDrodx3YOY",
        "outputId": "d67d8e9f-322e-4b9f-b0bf-cf8c8cdf43d6"
      },
      "execution_count": null,
      "outputs": [
        {
          "output_type": "stream",
          "name": "stdout",
          "text": [
            "ini adalah variabel\n",
            "4\n",
            "2.5\n",
            "True\n",
            "(4+1j)\n"
          ]
        }
      ]
    },
    {
      "cell_type": "markdown",
      "source": [
        "###Latihan 1"
      ],
      "metadata": {
        "id": "EsvcHJZG4Uji"
      }
    },
    {
      "cell_type": "code",
      "source": [
        "#buatlah 5 variabel kalian sendiri dengan 5 macam tipe data\n",
        "# lalu tampilkan variabel menggunakan fungsi print"
      ],
      "metadata": {
        "id": "9HRljV204Zd6"
      },
      "execution_count": null,
      "outputs": []
    },
    {
      "cell_type": "code",
      "source": [
        "#membuat variabel\n",
        "kalimat = 'berikut termasuk variabel'\n",
        "kalimat1 = 7.5\n",
        "kalimat2 = 2\n",
        "kalimat3 = 10j + 2\n",
        "kalimat4 = False\n",
        "\n",
        "# menampilkan variabel\n",
        "print(kalimat)\n",
        "print(kalimat1)\n",
        "print(kalimat2)\n",
        "print(kalimat3)\n",
        "print(kalimat4)"
      ],
      "metadata": {
        "colab": {
          "base_uri": "https://localhost:8080/"
        },
        "id": "AMwxBSL34iOe",
        "outputId": "09b40f67-2b9c-419f-e9bd-cd88d39391d1"
      },
      "execution_count": null,
      "outputs": [
        {
          "output_type": "stream",
          "name": "stdout",
          "text": [
            "berikut termasuk variabel\n",
            "7.5\n",
            "2\n",
            "(2+10j)\n",
            "False\n"
          ]
        }
      ]
    },
    {
      "cell_type": "markdown",
      "source": [
        "##**Tipe Data & Konversi Tipe Data**\n"
      ],
      "metadata": {
        "id": "I5CKWfs85q_s"
      }
    },
    {
      "cell_type": "markdown",
      "source": [
        "####Tipe Data"
      ],
      "metadata": {
        "id": "Vk0UtQRq5uyt"
      }
    },
    {
      "cell_type": "markdown",
      "source": [
        "5 tipe data yaitu\n",
        "\n",
        "1. Integr atau bilangan bulat\n",
        "\n",
        "2. Float atau bilangan desimal\n",
        "\n",
        "3. String atau kalimat\n",
        "\n",
        "4. Boolean yang terdiri dari True dan False\n",
        "\n",
        "5. Complex yang merupakan bilangan kompleks\n"
      ],
      "metadata": {
        "id": "L8-7Pa-G5x2a"
      }
    },
    {
      "cell_type": "code",
      "source": [
        "# menampilkan tipe data\n",
        "print(type(kalimat))\n",
        "print(type(bilangan1))\n",
        "print(type(bilangan2))\n",
        "print(type(bilangan3))\n",
        "print(type(bilangan4))\n"
      ],
      "metadata": {
        "colab": {
          "base_uri": "https://localhost:8080/"
        },
        "id": "TW-VgUut5EM8",
        "outputId": "364f3234-0cd1-4a10-a972-89073fe1f206"
      },
      "execution_count": null,
      "outputs": [
        {
          "output_type": "stream",
          "name": "stdout",
          "text": [
            "<class 'str'>\n",
            "<class 'int'>\n",
            "<class 'float'>\n",
            "<class 'bool'>\n",
            "<class 'complex'>\n"
          ]
        }
      ]
    },
    {
      "cell_type": "markdown",
      "source": [
        "###Latihan 2"
      ],
      "metadata": {
        "id": "nGJoSugo5-W5"
      }
    },
    {
      "cell_type": "code",
      "source": [
        "# cek tipe data variabel yang telah kalian buat pada latihan 1"
      ],
      "metadata": {
        "id": "ps2C83k46DGB"
      },
      "execution_count": null,
      "outputs": []
    },
    {
      "cell_type": "code",
      "source": [
        "# menampilkan tipe data\n",
        "print('berikut termasuk variabel, termasuk ', type(kalimat))\n",
        "print('7.5, termasuk ',type(kalimat1))\n",
        "print('2, termasuk ',type(kalimat2))\n",
        "print('10j + 2, termasuk ',type(kalimat3))\n",
        "print('False, termasuk ',type(kalimat4))"
      ],
      "metadata": {
        "colab": {
          "base_uri": "https://localhost:8080/"
        },
        "id": "VBwjdC__6you",
        "outputId": "d3e24863-38d5-414b-9f80-7bf546f71e33"
      },
      "execution_count": null,
      "outputs": [
        {
          "output_type": "stream",
          "name": "stdout",
          "text": [
            "berikut termasuk variabel, termasuk  <class 'str'>\n",
            "7.5, termasuk  <class 'float'>\n",
            "2, termasuk  <class 'int'>\n",
            "10j + 2, termasuk  <class 'complex'>\n",
            "False, termasuk  <class 'bool'>\n"
          ]
        }
      ]
    },
    {
      "cell_type": "markdown",
      "source": [
        "###Koversi Tipe Data"
      ],
      "metadata": {
        "id": "k8wiDsFB6I1I"
      }
    },
    {
      "cell_type": "code",
      "source": [
        "# konversi tipe data integer\n",
        "print(int(bilangan2))\n",
        "print(int(bilangan3))\n",
        "\n",
        "# konversi tipe data float\n",
        "print(float(bilangan1))\n",
        "print(float (bilangan3))\n",
        "\n",
        "# konversi tipe data string\n",
        "print(str(bilangan2))\n",
        "print(str(bilangan3))\n",
        "print(str(bilangan1))\n",
        "\n",
        "# konversi tipe data bool\n",
        "print(bool(bilangan1))\n",
        "print(bool(bilangan2))\n",
        "\n",
        "# konversi tipe data complex\n",
        "print(complex(bilangan1))\n",
        "print(complex(bilangan2))\n",
        "print(complex(bilangan3))"
      ],
      "metadata": {
        "colab": {
          "base_uri": "https://localhost:8080/"
        },
        "id": "xgdd7GFU6OBK",
        "outputId": "fc15ab2a-17d8-4ae7-bb10-e37b72e815f3"
      },
      "execution_count": null,
      "outputs": [
        {
          "output_type": "stream",
          "name": "stdout",
          "text": [
            "2\n",
            "1\n",
            "4.0\n",
            "1.0\n",
            "2.5\n",
            "True\n",
            "4\n",
            "True\n",
            "True\n",
            "(4+0j)\n",
            "(2.5+0j)\n",
            "(1+0j)\n"
          ]
        }
      ]
    },
    {
      "cell_type": "markdown",
      "source": [
        "###Latihan 3\n"
      ],
      "metadata": {
        "id": "aNWemBko6kk9"
      }
    },
    {
      "cell_type": "code",
      "source": [
        "# konversi tipe data yang telah kalian buat\n",
        "# menjadi berbagai macam tipe data"
      ],
      "metadata": {
        "id": "VaPspj5r6o9u"
      },
      "execution_count": null,
      "outputs": []
    },
    {
      "cell_type": "code",
      "source": [
        "# konversi tipe data integer\n",
        "print(int(kalimat2))\n",
        "print(int(kalimat4))\n",
        "\n",
        "# konversi tipe data float\n",
        "print(float(kalimat1))\n",
        "print(float(kalimat2))\n",
        "\n",
        "# konversi tipe data string\n",
        "print(str(kalimat2))\n",
        "print(str(kalimat3))\n",
        "print(str(kalimat1))\n",
        "\n",
        "# konversi tipe data bool\n",
        "print(bool(kalimat1))\n",
        "print(bool(kalimat2))\n",
        "\n",
        "# konversi tipe data complex\n",
        "print(complex(kalimat1))\n",
        "print(complex(kalimat2))\n",
        "print(complex(kalimat3))"
      ],
      "metadata": {
        "colab": {
          "base_uri": "https://localhost:8080/"
        },
        "id": "W3S4Sn8P6tER",
        "outputId": "641ecaca-cc2b-4895-fc80-abb9193a07ee"
      },
      "execution_count": null,
      "outputs": [
        {
          "output_type": "stream",
          "name": "stdout",
          "text": [
            "2\n",
            "0\n",
            "7.5\n",
            "2.0\n",
            "2\n",
            "(2+10j)\n",
            "7.5\n",
            "True\n",
            "True\n",
            "(7.5+0j)\n",
            "(2+0j)\n",
            "(2+10j)\n"
          ]
        }
      ]
    }
  ]
}