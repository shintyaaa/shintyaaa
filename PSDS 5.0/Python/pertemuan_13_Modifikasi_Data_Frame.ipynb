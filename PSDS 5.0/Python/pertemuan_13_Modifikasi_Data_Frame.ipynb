{
  "nbformat": 4,
  "nbformat_minor": 0,
  "metadata": {
    "colab": {
      "provenance": []
    },
    "kernelspec": {
      "name": "python3",
      "display_name": "Python 3"
    },
    "language_info": {
      "name": "python"
    }
  },
  "cells": [
    {
      "cell_type": "markdown",
      "source": [
        "#**Penggabungan Series/Dataframe**\n",
        "\n",
        "Terdapat beberapa metode untuk menggabungkanSeries/DataFrame di Pandas, yaitu :\n",
        "\n",
        "1. Append\n",
        "\n",
        "2. COncat\n",
        "\n",
        "3. Merge\n",
        "\n",
        "4. Join"
      ],
      "metadata": {
        "id": "zcq2CELh0OiI"
      }
    },
    {
      "cell_type": "markdown",
      "source": [
        "##Import Library\n",
        "\n",
        "Import beberapa library berikut untuk digunakan di sepanjang notebook ini :"
      ],
      "metadata": {
        "id": "sjMqqLcZfRir"
      }
    },
    {
      "cell_type": "code",
      "execution_count": 2,
      "metadata": {
        "id": "hOcZA7aHzxbf"
      },
      "outputs": [],
      "source": [
        "import pandas as pd"
      ]
    },
    {
      "cell_type": "markdown",
      "source": [
        "###Append\n",
        "\n",
        "Method .append() dapat digunakan pada datframe/series yang ditujukan untuk menambah row-nya saja :"
      ],
      "metadata": {
        "id": "76V8qdvrfiAc"
      }
    },
    {
      "cell_type": "code",
      "source": [
        "#Membuat series of int (s1) dan series of string (s2)\n",
        "s1 = pd.Series([1,2,3,4,5,6,7,8])\n",
        "s2 = pd.Series([\"a\",\"b\",\"c\",\"d\",\"e\",\"f\",\"g\",\"h\"])\n",
        "#Menerapkan method append\n",
        "s1_append_s2 = s1.append(s2)\n",
        "print(\"Series - append:\\n\", s1_append_s2)"
      ],
      "metadata": {
        "colab": {
          "base_uri": "https://localhost:8080/"
        },
        "id": "F309-gppfywT",
        "outputId": "88f8f4ca-f94c-47a0-d478-08c19aac1fb3"
      },
      "execution_count": 3,
      "outputs": [
        {
          "output_type": "stream",
          "name": "stdout",
          "text": [
            "Series - append:\n",
            " 0    1\n",
            "1    2\n",
            "2    3\n",
            "3    4\n",
            "4    5\n",
            "5    6\n",
            "6    7\n",
            "7    8\n",
            "0    a\n",
            "1    b\n",
            "2    c\n",
            "3    d\n",
            "4    e\n",
            "5    f\n",
            "6    g\n",
            "7    h\n",
            "dtype: object\n"
          ]
        },
        {
          "output_type": "stream",
          "name": "stderr",
          "text": [
            "<ipython-input-3-91845dd7eb5f>:5: FutureWarning: The series.append method is deprecated and will be removed from pandas in a future version. Use pandas.concat instead.\n",
            "  s1_append_s2 = s1.append(s2)\n"
          ]
        }
      ]
    },
    {
      "cell_type": "markdown",
      "source": [
        "###Untuk **DataFrame**"
      ],
      "metadata": {
        "id": "QNatMt7ogozp"
      }
    },
    {
      "cell_type": "code",
      "source": [
        "#Buat DataFrame df1 dan df2\n",
        "df1 = pd.DataFrame({'a':[1,2,3],\n",
        "                    'b':[4,5,6]})\n",
        "print(\"df1:\\n\", df1)\n",
        "df2 = pd.DataFrame({'b':[1,2,3],\n",
        "                    'a':[4,5,6]})\n",
        "print(\"df2:\\n\", df2)\n",
        "\n",
        "#Terapkan method append\n",
        "df1_append_df2 = df1.append(df2)\n",
        "print(\"DataFrame - append:\\n\", df1_append_df2)"
      ],
      "metadata": {
        "colab": {
          "base_uri": "https://localhost:8080/"
        },
        "id": "MdPgwGjagwuY",
        "outputId": "8b303a82-3421-499c-faf8-e1214e414af4"
      },
      "execution_count": 21,
      "outputs": [
        {
          "output_type": "stream",
          "name": "stdout",
          "text": [
            "df1:\n",
            "    a  b\n",
            "0  1  4\n",
            "1  2  5\n",
            "2  3  6\n",
            "df2:\n",
            "    b  a\n",
            "0  1  4\n",
            "1  2  5\n",
            "2  3  6\n",
            "DataFrame - append:\n",
            "    a  b\n",
            "0  1  4\n",
            "1  2  5\n",
            "2  3  6\n",
            "0  4  1\n",
            "1  5  2\n",
            "2  6  3\n"
          ]
        },
        {
          "output_type": "stream",
          "name": "stderr",
          "text": [
            "<ipython-input-21-e64f82dddc1a>:10: FutureWarning: The frame.append method is deprecated and will be removed from pandas in a future version. Use pandas.concat instead.\n",
            "  df1_append_df2 = df1.append(df2)\n"
          ]
        }
      ]
    },
    {
      "cell_type": "markdown",
      "source": [
        "###Concat\n",
        "\n",
        "Method **.concat()** dapat digunakan pada dataframe yang ditujukan untuk penggabungan baik dalam row-wise(dalam arah) atau column-wise."
      ],
      "metadata": {
        "id": "pI4pEtMnhfb6"
      }
    },
    {
      "cell_type": "code",
      "source": [
        "#Buat DataFrame df1 dan df2\n",
        "df1 = pd.DataFrame({'a':[1,2,3],\n",
        "                    'b':[4,5,6]})\n",
        "print(\"df1:\\n\", df1)\n",
        "df2 = pd.DataFrame({'b':[1,2,3],\n",
        "                    'a':[4,5,6]})\n",
        "print(\"df2:\\n\", df2)\n",
        "\n",
        "#Terapkan method concat row-wise\n",
        "row_wise_concat = pd.concat([df1,df2])\n",
        "print(\"Row-wise - concat:\\n\", row_wise_concat)"
      ],
      "metadata": {
        "colab": {
          "base_uri": "https://localhost:8080/"
        },
        "id": "YuFxzf-GhdXN",
        "outputId": "306d68d9-0002-442c-dffd-a16a9a7bc096"
      },
      "execution_count": 23,
      "outputs": [
        {
          "output_type": "stream",
          "name": "stdout",
          "text": [
            "df1:\n",
            "    a  b\n",
            "0  1  4\n",
            "1  2  5\n",
            "2  3  6\n",
            "df2:\n",
            "    b  a\n",
            "0  1  4\n",
            "1  2  5\n",
            "2  3  6\n",
            "Row-wise - concat:\n",
            "    a  b\n",
            "0  1  4\n",
            "1  2  5\n",
            "2  3  6\n",
            "0  4  1\n",
            "1  5  2\n",
            "2  6  3\n"
          ]
        }
      ]
    },
    {
      "cell_type": "markdown",
      "source": [
        "Untuk penerapan concat pada **column-wise**"
      ],
      "metadata": {
        "id": "Nvb_ZWc2iKuz"
      }
    },
    {
      "cell_type": "code",
      "source": [
        "#Terapkan method concat column-wise\n",
        "col_wise_concat = pd.concat([df1,df2], axis=1)\n",
        "print(\"Column-wise - concat:\\n\", col_wise_concat)"
      ],
      "metadata": {
        "colab": {
          "base_uri": "https://localhost:8080/"
        },
        "id": "xY4G1CajiT36",
        "outputId": "719487ee-9227-4d1f-d9f1-96996c288f22"
      },
      "execution_count": 24,
      "outputs": [
        {
          "output_type": "stream",
          "name": "stdout",
          "text": [
            "Column-wise - concat:\n",
            "    a  b  b  a\n",
            "0  1  4  1  4\n",
            "1  2  5  2  5\n",
            "2  3  6  3  6\n"
          ]
        }
      ]
    },
    {
      "cell_type": "markdown",
      "source": [
        "Dapat juga menambahkan identifier dari dataframe untuk data yang ditambahkan"
      ],
      "metadata": {
        "id": "sxgsd-msihVp"
      }
    },
    {
      "cell_type": "code",
      "source": [
        "#Penambahan identifier --> membentuk hasil penggabungan multiindex\n",
        "multiindex_concat = pd.concat([df1,df2], axis=0, keys=['df1','df2'])\n",
        "print(\"Multiindex - concat:\\n\", multiindex_concat)"
      ],
      "metadata": {
        "colab": {
          "base_uri": "https://localhost:8080/"
        },
        "id": "dvy87820igas",
        "outputId": "ef9b1b4f-4fab-4196-a55d-ef19aa0a5445"
      },
      "execution_count": 26,
      "outputs": [
        {
          "output_type": "stream",
          "name": "stdout",
          "text": [
            "Multiindex - concat:\n",
            "        a  b\n",
            "df1 0  1  4\n",
            "    1  2  5\n",
            "    2  3  6\n",
            "df2 0  4  1\n",
            "    1  5  2\n",
            "    2  6  3\n"
          ]
        }
      ]
    },
    {
      "cell_type": "markdown",
      "source": [
        "###Merge\n",
        "\n",
        "Method **.merge()** untuk menggabungkan Series/DataFrame yang bentuknya mirip dengan syntax join di SQL, specify leftand right tables, join key dan how tojoin(left, right, inner, full outer)   "
      ],
      "metadata": {
        "id": "GzBuU2LLwTjZ"
      }
    },
    {
      "cell_type": "code",
      "source": [
        "import pandas as pd"
      ],
      "metadata": {
        "id": "BDzAt5Ht9eKV"
      },
      "execution_count": 4,
      "outputs": []
    },
    {
      "cell_type": "code",
      "source": [
        "#Membuat dataframe df1 dan df2\n",
        "df1 = pd.DataFrame({\n",
        "    'key':['k1','k2','k3','k4','k5'],\n",
        "    'val1':[400, 900, 80, 750, 100],\n",
        "    'val2':[70, 50, 30, 200, 10]\n",
        "})\n",
        "print(\"df1:\\n\", df1)\n",
        "df2 = pd.DataFrame({\n",
        "    'key':['k1','k3','k5','k7','k10'],\n",
        "    'val3':[5,4,3,2,1],\n",
        "    'val4':[10,9,8,7,6]\n",
        "})\n",
        "print(\"df2:\\n\", df2)"
      ],
      "metadata": {
        "colab": {
          "base_uri": "https://localhost:8080/"
        },
        "id": "qYe0QPcI8cxz",
        "outputId": "07214beb-d682-4cd3-ba8c-1ee97587710b"
      },
      "execution_count": 27,
      "outputs": [
        {
          "output_type": "stream",
          "name": "stdout",
          "text": [
            "df1:\n",
            "   key  val1  val2\n",
            "0  k1   400    70\n",
            "1  k2   900    50\n",
            "2  k3    80    30\n",
            "3  k4   750   200\n",
            "4  k5   100    10\n",
            "df2:\n",
            "    key  val3  val4\n",
            "0   k1     5    10\n",
            "1   k3     4     9\n",
            "2   k5     3     8\n",
            "3   k7     2     7\n",
            "4  k10     1     6\n"
          ]
        }
      ]
    },
    {
      "cell_type": "markdown",
      "source": [
        "pd.merge yang ekivalen dengan SQL **left join**"
      ],
      "metadata": {
        "id": "0_3L8un69qBz"
      }
    },
    {
      "cell_type": "code",
      "source": [
        "#Merge yang ekivalen dengan SQL left join\n",
        "merge_df_left = pd.merge(left=df1, right=df2, how='left', left_on='key', right_on='key')\n",
        "print('Merge - Left:\\n', merge_df_left)"
      ],
      "metadata": {
        "colab": {
          "base_uri": "https://localhost:8080/"
        },
        "id": "UJI6yOfy-B4H",
        "outputId": "695b8f96-6f2f-41a9-9c06-67e9c9a66560"
      },
      "execution_count": 28,
      "outputs": [
        {
          "output_type": "stream",
          "name": "stdout",
          "text": [
            "Merge - Left:\n",
            "   key  val1  val2  val3  val4\n",
            "0  k1   400    70   5.0  10.0\n",
            "1  k2   900    50   NaN   NaN\n",
            "2  k3    80    30   4.0   9.0\n",
            "3  k4   750   200   NaN   NaN\n",
            "4  k5   100    10   3.0   8.0\n"
          ]
        }
      ]
    },
    {
      "cell_type": "markdown",
      "source": [
        "pd.merge yang ekivalen dengan SQL **right join**"
      ],
      "metadata": {
        "id": "GkS-VGO69vUU"
      }
    },
    {
      "cell_type": "code",
      "source": [
        "#Merge yang ekivalen dengan SQL right join\n",
        "merge_df_right = pd.merge(left=df1, right=df2, how='right', left_on='key', right_on='key')\n",
        "print('Merge - right:\\n', merge_df_right)"
      ],
      "metadata": {
        "colab": {
          "base_uri": "https://localhost:8080/"
        },
        "id": "HPXKOki_-eZQ",
        "outputId": "758a7714-7fb2-44c6-8776-4ebe13e0f07a"
      },
      "execution_count": 29,
      "outputs": [
        {
          "output_type": "stream",
          "name": "stdout",
          "text": [
            "Merge - right:\n",
            "    key   val1  val2  val3  val4\n",
            "0   k1  400.0  70.0     5    10\n",
            "1   k3   80.0  30.0     4     9\n",
            "2   k5  100.0  10.0     3     8\n",
            "3   k7    NaN   NaN     2     7\n",
            "4  k10    NaN   NaN     1     6\n"
          ]
        }
      ]
    },
    {
      "cell_type": "markdown",
      "source": [
        "pd.merge yang ekivalen dengan SQL **inner join**"
      ],
      "metadata": {
        "id": "eKyl-n_K90mI"
      }
    },
    {
      "cell_type": "code",
      "source": [
        "#Merge yang ekivalen dengan SQL inner join\n",
        "merge_df_inner = pd.merge(left=df1, right=df2, how='inner', left_on='key', right_on='key')\n",
        "print('Merge - Inner:\\n', merge_df_inner)"
      ],
      "metadata": {
        "colab": {
          "base_uri": "https://localhost:8080/"
        },
        "id": "BHjzkjae-sV3",
        "outputId": "c119b413-814e-4c1d-bae8-6069f39d0d1a"
      },
      "execution_count": 30,
      "outputs": [
        {
          "output_type": "stream",
          "name": "stdout",
          "text": [
            "Merge - Inner:\n",
            "   key  val1  val2  val3  val4\n",
            "0  k1   400    70     5    10\n",
            "1  k3    80    30     4     9\n",
            "2  k5   100    10     3     8\n"
          ]
        }
      ]
    },
    {
      "cell_type": "markdown",
      "source": [
        "pd.merge yang ekivalen dengan SQL **outer join**"
      ],
      "metadata": {
        "id": "BeEwamSB96rh"
      }
    },
    {
      "cell_type": "code",
      "source": [
        "#Merge yang ekivalen dengan SQL outer join\n",
        "merge_df_outer = pd.merge(left=df1, right=df2, how='outer', left_on='key', right_on='key')\n",
        "print('Merge - Outer:\\n', merge_df_outer)"
      ],
      "metadata": {
        "colab": {
          "base_uri": "https://localhost:8080/"
        },
        "id": "NWf9DH349Vru",
        "outputId": "0722e06a-5386-48ea-f5c4-c84609c10866"
      },
      "execution_count": 31,
      "outputs": [
        {
          "output_type": "stream",
          "name": "stdout",
          "text": [
            "Merge - Outer:\n",
            "    key   val1   val2  val3  val4\n",
            "0   k1  400.0   70.0   5.0  10.0\n",
            "1   k2  900.0   50.0   NaN   NaN\n",
            "2   k3   80.0   30.0   4.0   9.0\n",
            "3   k4  750.0  200.0   NaN   NaN\n",
            "4   k5  100.0   10.0   3.0   8.0\n",
            "5   k7    NaN    NaN   2.0   7.0\n",
            "6  k10    NaN    NaN   1.0   6.0\n"
          ]
        }
      ]
    },
    {
      "cell_type": "markdown",
      "source": [
        "Bagaiman jika salah satu dataframe atau keseluruhan dataframe yang akan digabungkan tersebut memiliki multiindex?"
      ],
      "metadata": {
        "id": "tHOHuc1P_FXA"
      }
    },
    {
      "cell_type": "code",
      "source": [
        "#Membuat dataframe df1 dan df2\n",
        "df1 = pd.DataFrame({\n",
        "    'key':['k1','k2','k3','k4','k5'],\n",
        "    'val1':[400, 900, 80, 750, 100],\n",
        "    'val2':[70, 50, 30, 200, 10]\n",
        "}).set_index(['key','val2'])\n",
        "print('DataFrame 1:\\n', df1)\n",
        "df2 = pd.DataFrame({\n",
        "    'key':['k6','k7','k8','k9','k10'],\n",
        "    'val3':[1,2,3,4,5],\n",
        "    'val4':[6,7,8,9,10]\n",
        "}).set_index(['key','val3'])\n",
        "print('DataFrame 2:\\n', df2)"
      ],
      "metadata": {
        "colab": {
          "base_uri": "https://localhost:8080/"
        },
        "id": "CEvkxtWm_Dsz",
        "outputId": "b747614f-528b-4a9e-cd17-1d244c848562"
      },
      "execution_count": 32,
      "outputs": [
        {
          "output_type": "stream",
          "name": "stdout",
          "text": [
            "DataFrame 1:\n",
            "           val1\n",
            "key val2      \n",
            "k1  70     400\n",
            "k2  50     900\n",
            "k3  30      80\n",
            "k4  200    750\n",
            "k5  10     100\n",
            "DataFrame 2:\n",
            "           val4\n",
            "key val3      \n",
            "k6  1        6\n",
            "k7  2        7\n",
            "k8  3        8\n",
            "k9  4        9\n",
            "k10 5       10\n"
          ]
        }
      ]
    },
    {
      "cell_type": "markdown",
      "source": [
        "Jika digabungkan secara langsung seperti yang telah dilakukan pada bagian sebelumnya"
      ],
      "metadata": {
        "id": "LxDrPu5wAiw3"
      }
    },
    {
      "cell_type": "code",
      "source": [
        "#Merge dataframe yang memiliki multi index\n",
        "#df_merge = pd.merge(df1,df2)\n",
        "#print('Merging dataframe:\\n', df_merge)\n",
        "#Merge dataframe yang memiliki multi index\n",
        "\n",
        "df_merge = pd.merge(df1.reset_index(), df2.reset_index())\n",
        "print('Merging dataframe:\\n', df_merge)"
      ],
      "metadata": {
        "colab": {
          "base_uri": "https://localhost:8080/"
        },
        "id": "vx7XDsOgAg3C",
        "outputId": "09ed9a5e-3346-475b-85de-82972e6e0df3"
      },
      "execution_count": 33,
      "outputs": [
        {
          "output_type": "stream",
          "name": "stdout",
          "text": [
            "Merging dataframe:\n",
            " Empty DataFrame\n",
            "Columns: [key, val2, val1, val3, val4]\n",
            "Index: []\n"
          ]
        }
      ]
    },
    {
      "cell_type": "markdown",
      "source": [
        "###Join\n",
        "\n",
        "Method **.join()** digunakan pada dataframe untuk menggabungkan kedua data dengan set index pada kedua tabel tersebut sebagai join key, tanpa index, hal ini tidak akan berhasil."
      ],
      "metadata": {
        "id": "lK5MYwXlBc_k"
      }
    },
    {
      "cell_type": "code",
      "source": [
        "#Buat dataframe df1 dan df2\n",
        "df1 = pd.DataFrame({\n",
        "    'key':['k1','k2','k3','k4','k5'],\n",
        "    'val1':[400, 900, 80, 750, 100],\n",
        "    'val2':[70, 50, 30, 200, 10]\n",
        "})\n",
        "df2 = pd.DataFrame({\n",
        "    'key':['k1','k3','k5','k7','k10'],\n",
        "    'val3':[1,2,3,4,5],\n",
        "    'val4':[6,7,8,9,10]\n",
        "})\n",
        "#Penerapan join dengan menggunakan set_index dan keyword how\n",
        "#df.join(df2) #<-- akan error"
      ],
      "metadata": {
        "id": "delA6HexBWul"
      },
      "execution_count": 40,
      "outputs": []
    },
    {
      "cell_type": "code",
      "source": [
        "print(df1.set_index('key').join(df2.set_index('key')))"
      ],
      "metadata": {
        "colab": {
          "base_uri": "https://localhost:8080/"
        },
        "id": "Of68vVAeCYPB",
        "outputId": "02ab99e6-9d8a-4c41-9955-f405c963a0bd"
      },
      "execution_count": 41,
      "outputs": [
        {
          "output_type": "stream",
          "name": "stdout",
          "text": [
            "     val1  val2  val3  val4\n",
            "key                        \n",
            "k1    400    70   1.0   6.0\n",
            "k2    900    50   NaN   NaN\n",
            "k3     80    30   2.0   7.0\n",
            "k4    750   200   NaN   NaN\n",
            "k5    100    10   3.0   8.0\n"
          ]
        }
      ]
    },
    {
      "cell_type": "markdown",
      "source": [
        "Untuk tipe join yang lain (contoh=inner), harus menspecify keyword how='inner' seperti yang dicontohkan berikut ini"
      ],
      "metadata": {
        "id": "hV3g4ThsCiLg"
      }
    },
    {
      "cell_type": "code",
      "source": [
        "join_df = df1.set_index('key').join(df2.set_index('key'), how = 'inner')\n",
        "print(join_df)"
      ],
      "metadata": {
        "colab": {
          "base_uri": "https://localhost:8080/"
        },
        "id": "rC5WicGPCyIi",
        "outputId": "7556f9e1-1f48-40fa-9e0b-d1e06d52d7cb"
      },
      "execution_count": 42,
      "outputs": [
        {
          "output_type": "stream",
          "name": "stdout",
          "text": [
            "     val1  val2  val3  val4\n",
            "key                        \n",
            "k1    400    70     1     6\n",
            "k3     80    30     2     7\n",
            "k5    100    10     3     8\n"
          ]
        }
      ]
    },
    {
      "cell_type": "code",
      "source": [
        "#outer\n",
        "join_df = df1.set_index('key').join(df2.set_index('key'), how = 'outer')\n",
        "print(join_df)"
      ],
      "metadata": {
        "colab": {
          "base_uri": "https://localhost:8080/"
        },
        "id": "pR4C3nJXC_0M",
        "outputId": "ffabdff5-9833-42f9-8c21-ac2b825bd3dd"
      },
      "execution_count": 43,
      "outputs": [
        {
          "output_type": "stream",
          "name": "stdout",
          "text": [
            "      val1   val2  val3  val4\n",
            "key                          \n",
            "k1   400.0   70.0   1.0   6.0\n",
            "k10    NaN    NaN   5.0  10.0\n",
            "k2   900.0   50.0   NaN   NaN\n",
            "k3    80.0   30.0   2.0   7.0\n",
            "k4   750.0  200.0   NaN   NaN\n",
            "k5   100.0   10.0   3.0   8.0\n",
            "k7     NaN    NaN   4.0   9.0\n"
          ]
        }
      ]
    },
    {
      "cell_type": "code",
      "source": [
        "#left\n",
        "join_df = df1.set_index('key').join(df2.set_index('key'), how = 'left')\n",
        "print(join_df)"
      ],
      "metadata": {
        "colab": {
          "base_uri": "https://localhost:8080/"
        },
        "id": "keLbtvINDKL1",
        "outputId": "65290870-e970-4eb1-f78a-4325553b492f"
      },
      "execution_count": 44,
      "outputs": [
        {
          "output_type": "stream",
          "name": "stdout",
          "text": [
            "     val1  val2  val3  val4\n",
            "key                        \n",
            "k1    400    70   1.0   6.0\n",
            "k2    900    50   NaN   NaN\n",
            "k3     80    30   2.0   7.0\n",
            "k4    750   200   NaN   NaN\n",
            "k5    100    10   3.0   8.0\n"
          ]
        }
      ]
    },
    {
      "cell_type": "code",
      "source": [
        "#right\n",
        "join_df = df1.set_index('key').join(df2.set_index('key'), how = 'right')\n",
        "print(join_df)"
      ],
      "metadata": {
        "colab": {
          "base_uri": "https://localhost:8080/"
        },
        "id": "q0XUaEElDNXu",
        "outputId": "68bfdfda-503e-4807-8a1b-f808319e5c61"
      },
      "execution_count": 45,
      "outputs": [
        {
          "output_type": "stream",
          "name": "stdout",
          "text": [
            "      val1  val2  val3  val4\n",
            "key                         \n",
            "k1   400.0  70.0     1     6\n",
            "k3    80.0  30.0     2     7\n",
            "k5   100.0  10.0     3     8\n",
            "k7     NaN   NaN     4     9\n",
            "k10    NaN   NaN     5    10\n"
          ]
        }
      ]
    }
  ]
}