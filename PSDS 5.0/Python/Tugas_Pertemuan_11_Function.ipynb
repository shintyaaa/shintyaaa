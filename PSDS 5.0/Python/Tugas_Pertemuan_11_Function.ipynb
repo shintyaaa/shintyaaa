{
  "nbformat": 4,
  "nbformat_minor": 0,
  "metadata": {
    "colab": {
      "provenance": []
    },
    "kernelspec": {
      "name": "python3",
      "display_name": "Python 3"
    },
    "language_info": {
      "name": "python"
    }
  },
  "cells": [
    {
      "cell_type": "markdown",
      "source": [
        "#**Function**\n",
        "\n"
      ],
      "metadata": {
        "id": "fdY8FZAp9LJ0"
      }
    },
    {
      "cell_type": "markdown",
      "source": [
        "Function (fungsi) adalah sebuah blok statement yang hanya akan dijalankan saat ia panggil.\n",
        "\n",
        "Fungsi len() untuk mengukur jumlah elemen dalam sebuah list\n",
        "\n",
        "fungsi print() untuk menampilkan pesan pada layar console merupakan contoh dari bentuk fungsi yang telah disediakan oleh bahasa pemrograman Python dengan kata lain built-in functins. Selain fungsi yang telah disediakan oleh python, python mengizinkan untuk mendeklarasikan fungsi dalam kode yang dituliskan yang dikenal dengan user defined function."
      ],
      "metadata": {
        "id": "uyFFO8Mk9lE4"
      }
    },
    {
      "cell_type": "code",
      "execution_count": null,
      "metadata": {
        "id": "3njyVtz086-m"
      },
      "outputs": [],
      "source": [
        "def nama_fungsi (argumen):\n",
        "  statement_1\n",
        "  -\n",
        "  statement_n\n",
        "  return returned_value"
      ]
    },
    {
      "cell_type": "markdown",
      "source": [
        "*   nama_fungsi adalah untuk fungsi yang\n",
        "anda definisikan, memiliki aturan seperti penamaan variable\n",
        "\n",
        "*   argument adalah variable masukan ke fungsi, biasa tanpa variable, satu variable atau lebih\n",
        "*   statement_1...statement_n adalah algoritma yang telah anda transfer dalam bahasa python yang merupakan inti dari fungsi anda definisikan. Seluruh statement adalah menjorok (indent) ke dalam seperti yang pernah anda pelajari pada conditioning dan looping.\n",
        "\n",
        "*   return_value adalah variabel output dari fungsi anda, bisa tanpa variable, satu variable atau lebih"
      ],
      "metadata": {
        "id": "Memsyqzi_v55"
      }
    },
    {
      "cell_type": "markdown",
      "source": [
        "#Argumen dan Parameter"
      ],
      "metadata": {
        "id": "QN1gIaB2BRqN"
      }
    },
    {
      "cell_type": "markdown",
      "source": [
        "\n",
        "\n",
        "*  Parameter adalah variable yang digunakan dalam deklarasi fungsi\n",
        "\n",
        "*   Argumen adalah nilai yang diberikan saat pemanggilan fungsi\n",
        "\n"
      ],
      "metadata": {
        "id": "6hJa0sDTBULK"
      }
    },
    {
      "cell_type": "code",
      "source": [
        "def print_nama(nama): #’nama’ adalah parameter\n",
        "    print(nama)\n",
        "\n",
        "print_nama('Budi') #’Budi’ adalah argumen"
      ],
      "metadata": {
        "colab": {
          "base_uri": "https://localhost:8080/"
        },
        "id": "9Re3kFqYBp6_",
        "outputId": "5bc429f3-066b-47c5-c2e1-47cea9e11ddf"
      },
      "execution_count": null,
      "outputs": [
        {
          "output_type": "stream",
          "name": "stdout",
          "text": [
            "Budi\n"
          ]
        }
      ]
    },
    {
      "cell_type": "markdown",
      "source": [
        "##Argumen Posisi dan Kata Kunci"
      ],
      "metadata": {
        "id": "J9IcZX28B2Y8"
      }
    },
    {
      "cell_type": "markdown",
      "source": [
        "Kita bisa menyatakan argumen posisi atau kata kunci. Beberapa manfaat argumen kata kunci dapat berupa:\n",
        "\n",
        "*   Kita dapat menyebut argumen dengan mereka untuk memperjelas apa yang mereka wakili\n",
        "*   Kita dapat mengatur ulang argumen dengan cara membuatnya paling mudah dibaca\n"
      ],
      "metadata": {
        "id": "fOSDCcWbCD-e"
      }
    },
    {
      "cell_type": "code",
      "source": [
        " def angka(a, b, c):\n",
        "     print(a, b, c)\n",
        "\n",
        "#argumen posisi\n",
        "#argumen berdasarkan posisinya\n",
        "angka(1, 2, 3)\n",
        "\n",
        "#argumen berdasarkan kata kuncinya\n",
        "angka(a=1, b=2, c=3)\n",
        "angka(c=3, b=2, a=1)\n",
        "\n",
        "#catatan : jika sudah diberi kunci maka urutan tidak menjadi penting\n",
        "\n",
        "#campuran antara argumen posisi dan argumen kata kunci\n",
        "angka(1, b=2, c=3)\n",
        "\n",
        "#ini tidak diijinkan:\n",
        "#foo(1, b=2, 3) #argumen posisional setelah argumen kunci\n",
        "#foo(1, b=2, a=3) #terdapat dua nilai untuk argumen kunci 'a'"
      ],
      "metadata": {
        "id": "XWqCjpZxB1Vv",
        "colab": {
          "base_uri": "https://localhost:8080/"
        },
        "outputId": "c7a5dbcc-2547-4183-f005-3d986a4bdd29"
      },
      "execution_count": null,
      "outputs": [
        {
          "output_type": "stream",
          "name": "stdout",
          "text": [
            "1 2 3\n",
            "1 2 3\n",
            "1 2 3\n",
            "1 2 3\n"
          ]
        }
      ]
    },
    {
      "cell_type": "markdown",
      "source": [
        "##Argumen Default"
      ],
      "metadata": {
        "id": "juNnhXvdnfmz"
      }
    },
    {
      "cell_type": "markdown",
      "source": [
        "Fungsi dapat memiliki argumen default dengan nilai yang telah ditentukan sebelumnya. Argumen ini dapat ditinggalkan dan nilai default kemudian diteruskan ke fungsi, atau argumen dapat diubah dengan nilai yang berbeda. Perhatikan bahwa argumen default harus ditentukan sebagai parameter terakhir dalam suatu fungsi."
      ],
      "metadata": {
        "id": "dDCRF7Znnmj5"
      }
    },
    {
      "cell_type": "code",
      "source": [
        "#Argumen default\n",
        "def angka2(a, b, c, d=4):\n",
        "    print(a, b, c, d)\n",
        "\n",
        "angka2(1, 2, 3, 4)\n",
        "angka2(1, b=2, c=3, d=100)\n",
        "\n",
        "#Argumen default harus diletakkan terakhir"
      ],
      "metadata": {
        "colab": {
          "base_uri": "https://localhost:8080/"
        },
        "id": "bmUTRegzo_R1",
        "outputId": "c2227242-ecc7-45c7-d878-caac93af11f7"
      },
      "execution_count": null,
      "outputs": [
        {
          "output_type": "stream",
          "name": "stdout",
          "text": [
            "1 2 3 4\n",
            "1 2 3 100\n"
          ]
        }
      ]
    },
    {
      "cell_type": "markdown",
      "source": [
        "#Praktik Membuat Fungsi"
      ],
      "metadata": {
        "id": "cuGJSw3MtMRP"
      }
    },
    {
      "cell_type": "code",
      "source": [
        "x = 1\n",
        "y = 2\n",
        "x*y"
      ],
      "metadata": {
        "colab": {
          "base_uri": "https://localhost:8080/"
        },
        "id": "nXujSrUmplIH",
        "outputId": "5c6106a9-d34a-4654-c886-2d5007fe0b45"
      },
      "execution_count": null,
      "outputs": [
        {
          "output_type": "execute_result",
          "data": {
            "text/plain": [
              "2"
            ]
          },
          "metadata": {},
          "execution_count": 4
        }
      ]
    },
    {
      "cell_type": "code",
      "source": [
        "def penjumlahan(x,y): #input\n",
        "  a=x+y               #proses\n",
        "  return a            #output\n",
        "\n",
        "penjumlahan(1,2)      #menggunakan fungsi"
      ],
      "metadata": {
        "colab": {
          "base_uri": "https://localhost:8080/"
        },
        "id": "HLd-POVGtXzK",
        "outputId": "209fca3d-96ed-4b1e-b344-b474ee0e9553"
      },
      "execution_count": null,
      "outputs": [
        {
          "output_type": "execute_result",
          "data": {
            "text/plain": [
              "3"
            ]
          },
          "metadata": {},
          "execution_count": 6
        }
      ]
    },
    {
      "cell_type": "markdown",
      "source": [
        "Penjumlahan yang memungkinkan untuk tiga bilangan"
      ],
      "metadata": {
        "id": "gKvVlvD1vRh5"
      }
    },
    {
      "cell_type": "code",
      "source": [
        "def penjumlahan(x,y,z=None):\n",
        "    if (z==None):\n",
        "        return x+y\n",
        "    else:\n",
        "        return x+y+z\n",
        "\n",
        "print(penjumlahan(1, 2))\n",
        "print(penjumlahan(1, 2, 3))"
      ],
      "metadata": {
        "colab": {
          "base_uri": "https://localhost:8080/"
        },
        "id": "kgJwLLNBvWCv",
        "outputId": "a786bc56-83bf-4214-8a1a-6f267522cdf7"
      },
      "execution_count": null,
      "outputs": [
        {
          "output_type": "stream",
          "name": "stdout",
          "text": [
            "3\n",
            "6\n"
          ]
        }
      ]
    },
    {
      "cell_type": "markdown",
      "source": [
        "menyimpan hasil fungsi dalam vriabel"
      ],
      "metadata": {
        "id": "JYd7Wu9FvtLq"
      }
    },
    {
      "cell_type": "code",
      "source": [
        "def penjumlahan(x,y):\n",
        "    return x+y\n",
        "\n",
        "a = penjumlahan\n",
        "a(1, 2)"
      ],
      "metadata": {
        "colab": {
          "base_uri": "https://localhost:8080/"
        },
        "id": "WICemwgIvsGk",
        "outputId": "153e9af3-4201-4a62-9484-5219b023a13f"
      },
      "execution_count": null,
      "outputs": [
        {
          "output_type": "execute_result",
          "data": {
            "text/plain": [
              "3"
            ]
          },
          "metadata": {},
          "execution_count": 8
        }
      ]
    },
    {
      "cell_type": "markdown",
      "source": [
        "#Latihan 1\n",
        "\n",
        "Buatlah function phytagoras dengan input argumennya panjang tinggi dan alas segitiga untuk menghasilkan output nilai panjang sisi miring."
      ],
      "metadata": {
        "id": "gmJiXWiNv9eY"
      }
    },
    {
      "cell_type": "code",
      "source": [
        "#a sebagai sisi tegak pada segitiga\n",
        "#b sebagai sisi alas pada segitiga\n",
        "#c sebagai sisi miring pada segitiga\n",
        "\n",
        "def c(a,b):\n",
        "    return (a*a + b*b)**(1/2)\n",
        "\n",
        "Pythagoras = c\n",
        "print(\"Sisi miring\",Pythagoras(3,4))"
      ],
      "metadata": {
        "id": "yYxwBQo0wu7I",
        "colab": {
          "base_uri": "https://localhost:8080/"
        },
        "outputId": "82af2a9d-a583-4e88-8977-250ed88866ed"
      },
      "execution_count": 8,
      "outputs": [
        {
          "output_type": "stream",
          "name": "stdout",
          "text": [
            "Sisi miring 5.0\n"
          ]
        }
      ]
    },
    {
      "cell_type": "markdown",
      "source": [
        "#Latihan 2\n",
        "Buatlah function luas permukaan balok dengan input argumennya panjang, lebar, dan tinggi dari balok untuk menghasilkan output nilai luas permukaan balok tersebut."
      ],
      "metadata": {
        "id": "_RidnikNwSxb"
      }
    },
    {
      "cell_type": "code",
      "source": [
        "def Luas_permukaan_balok(p,l,t):\n",
        "    return 2*(p*l + l*t + p*t)\n",
        "\n",
        "LP = Luas_permukaan_balok\n",
        "print(\"Luas permukaan balok adalah\", LP(8,4,3))"
      ],
      "metadata": {
        "id": "FgNt7ikwv8X_",
        "colab": {
          "base_uri": "https://localhost:8080/"
        },
        "outputId": "1c4df73a-5586-4f25-ca95-635e93d62c89"
      },
      "execution_count": 4,
      "outputs": [
        {
          "output_type": "stream",
          "name": "stdout",
          "text": [
            "Luas permukaan balok adalah 136\n"
          ]
        }
      ]
    }
  ]
}