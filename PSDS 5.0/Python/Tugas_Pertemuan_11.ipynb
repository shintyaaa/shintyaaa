{
  "nbformat": 4,
  "nbformat_minor": 0,
  "metadata": {
    "colab": {
      "provenance": []
    },
    "kernelspec": {
      "name": "python3",
      "display_name": "Python 3"
    },
    "language_info": {
      "name": "python"
    }
  },
  "cells": [
    {
      "cell_type": "markdown",
      "source": [
        "1.\tBuatlah fungsi lambda untuk menghitung fungsi dari luas persegi panjang"
      ],
      "metadata": {
        "id": "z4OmNE-6Cbpr"
      }
    },
    {
      "cell_type": "code",
      "execution_count": 1,
      "metadata": {
        "colab": {
          "base_uri": "https://localhost:8080/"
        },
        "id": "dQzlOYCSCaXn",
        "outputId": "88acd840-8e2c-4dfc-d28d-14bc0aaa59b2"
      },
      "outputs": [
        {
          "output_type": "execute_result",
          "data": {
            "text/plain": [
              "116"
            ]
          },
          "metadata": {},
          "execution_count": 1
        }
      ],
      "source": [
        "(lambda p,l: p*l)(29,4)"
      ]
    },
    {
      "cell_type": "markdown",
      "source": [
        "2.\tBuatlah fungsi lambda untuk menghitung luas dari segitiga"
      ],
      "metadata": {
        "id": "jHGGFEoNCfIH"
      }
    },
    {
      "cell_type": "code",
      "source": [
        "(lambda a,t: a*t*1/2)(6,8)"
      ],
      "metadata": {
        "colab": {
          "base_uri": "https://localhost:8080/"
        },
        "id": "hdqc9DBECh6u",
        "outputId": "f8312101-7da4-4c36-cc1e-e5128457f180"
      },
      "execution_count": 2,
      "outputs": [
        {
          "output_type": "execute_result",
          "data": {
            "text/plain": [
              "24.0"
            ]
          },
          "metadata": {},
          "execution_count": 2
        }
      ]
    }
  ]
}