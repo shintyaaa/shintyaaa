{
  "nbformat": 4,
  "nbformat_minor": 0,
  "metadata": {
    "colab": {
      "provenance": []
    },
    "kernelspec": {
      "name": "python3",
      "display_name": "Python 3"
    },
    "language_info": {
      "name": "python"
    }
  },
  "cells": [
    {
      "cell_type": "markdown",
      "source": [
        "#**Implementasi**"
      ],
      "metadata": {
        "id": "BEHgO4dK20bf"
      }
    },
    {
      "cell_type": "code",
      "source": [
        "import time\n",
        "from cryptography.hazmat.primitives.ciphers import Cipher, algorithms, modes\n",
        "from cryptography.hazmat.backends import default_backend\n",
        "from cryptography.hazmat.primitives import hashes\n",
        "from cryptography.hazmat.primitives.kdf.pbkdf2 import PBKDF2HMAC\n",
        "import os\n",
        "import tenseal as ts\n",
        "\n",
        "# AES-GCM Encryption and Decryption\n",
        "def aes_gcm_encrypt_decrypt(plaintext):\n",
        "    # Generate key and nonce\n",
        "    password = b\"password\"\n",
        "    salt = os.urandom(16)\n",
        "    kdf = PBKDF2HMAC(\n",
        "        algorithm=hashes.SHA256(),\n",
        "        length=32,\n",
        "        salt=salt,\n",
        "        iterations=100000,\n",
        "        backend=default_backend()\n",
        "    )\n",
        "    key = kdf.derive(password)\n",
        "    nonce = os.urandom(12)\n",
        "\n",
        "    # Encrypt\n",
        "    aes_gcm_encrypt_start = time.time()\n",
        "    encryptor = Cipher(\n",
        "        algorithms.AES(key),\n",
        "        modes.GCM(nonce),\n",
        "        backend=default_backend()\n",
        "    ).encryptor()\n",
        "    ciphertext = encryptor.update(plaintext.encode()) + encryptor.finalize()\n",
        "    aes_gcm_encrypt_end = time.time()\n",
        "\n",
        "    # Decrypt\n",
        "    aes_gcm_decrypt_start = time.time()\n",
        "    decryptor = Cipher(\n",
        "        algorithms.AES(key),\n",
        "        modes.GCM(nonce, encryptor.tag),\n",
        "        backend=default_backend()\n",
        "    ).decryptor()\n",
        "    decrypted_text = decryptor.update(ciphertext) + decryptor.finalize()\n",
        "    aes_gcm_decrypt_end = time.time()\n",
        "\n",
        "    return aes_gcm_encrypt_end - aes_gcm_encrypt_start, aes_gcm_decrypt_end - aes_gcm_decrypt_start\n",
        "\n",
        "# FHE Encryption and Decryption using TenSEAL\n",
        "def fhe_encrypt_decrypt(plaintext):\n",
        "    # Setup TenSEAL context\n",
        "    context = ts.context(ts.SCHEME_TYPE.CKKS, poly_modulus_degree=8192, coeff_mod_bit_sizes=[60, 40, 40, 60])\n",
        "    context.global_scale = 2**40\n",
        "    context.generate_galois_keys()\n",
        "\n",
        "    # Encode plaintext\n",
        "    plain_vector = [ord(c) for c in plaintext]\n",
        "\n",
        "    # Encrypt\n",
        "    fhe_encrypt_start = time.time()\n",
        "    encrypted = ts.ckks_vector(context, plain_vector)\n",
        "    fhe_encrypt_end = time.time()\n",
        "\n",
        "    # Decrypt\n",
        "    fhe_decrypt_start = time.time()\n",
        "    decrypted = encrypted.decrypt()\n",
        "    fhe_decrypt_end = time.time()\n",
        "\n",
        "    return fhe_encrypt_end - fhe_encrypt_start, fhe_decrypt_end - fhe_decrypt_start\n",
        "\n",
        "plaintext = \"kripto_kapselku\"\n",
        "\n",
        "aes_gcm_enc_time, aes_gcm_dec_time = aes_gcm_encrypt_decrypt(plaintext)\n",
        "print(f\"AES-GCM Encryption time: {aes_gcm_enc_time} seconds\")\n",
        "print(f\"AES-GCM Decryption time: {aes_gcm_dec_time} seconds\")\n",
        "\n",
        "fhe_enc_time, fhe_dec_time = fhe_encrypt_decrypt(plaintext)\n",
        "print(f\"FHE Encryption time: {fhe_enc_time} seconds\")\n",
        "print(f\"FHE Decryption time: {fhe_dec_time} seconds\")\n"
      ],
      "metadata": {
        "colab": {
          "base_uri": "https://localhost:8080/"
        },
        "id": "0aNLBucncbLI",
        "outputId": "350a3c23-b008-405a-bfaf-90714fef0229"
      },
      "execution_count": null,
      "outputs": [
        {
          "output_type": "stream",
          "name": "stdout",
          "text": [
            "AES-GCM Encryption time: 0.0015723705291748047 seconds\n",
            "AES-GCM Decryption time: 0.0005505084991455078 seconds\n",
            "FHE Encryption time: 0.014245986938476562 seconds\n",
            "FHE Decryption time: 0.00263214111328125 seconds\n"
          ]
        }
      ]
    }
  ]
}